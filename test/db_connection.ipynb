{
 "cells": [
  {
   "cell_type": "code",
   "execution_count": 1,
   "metadata": {},
   "outputs": [
    {
     "name": "stdout",
     "output_type": "stream",
     "text": [
      "title                0\n",
      "description          0\n",
      "key_sentences        0\n",
      "author               0\n",
      "publisher            0\n",
      "isbn13              13\n",
      "img_url              0\n",
      "publication_date    14\n",
      "dtype: int64\n"
     ]
    }
   ],
   "source": [
    "# None 값이 있는지 확인\n",
    "import pandas as pd\n",
    "import json\n",
    "\n",
    "file_path = \"../data/scraping/all_book_data_ver3.json\"\n",
    "with open(file_path, \"r\", encoding=\"utf-8\") as f:\n",
    "    data = json.load(f)\n",
    "\n",
    "# JSON 데이터가 리스트인지 딕셔너리인지 확인 후 변환\n",
    "if isinstance(data, list):\n",
    "    df = pd.DataFrame(data)\n",
    "elif isinstance(data, dict):  # 딕셔너리 형태이면 변환 (예: {key: list})\n",
    "    df = pd.DataFrame.from_dict(data)\n",
    "\n",
    "# None 값 확인\n",
    "none_count = df.isna().sum()\n",
    "\n",
    "print(none_count)"
   ]
  },
  {
   "cell_type": "markdown",
   "metadata": {},
   "source": [
    "중복 null 13개 + pulication_date 1개 => 총 14개 null"
   ]
  },
  {
   "cell_type": "code",
   "execution_count": 3,
   "metadata": {},
   "outputs": [
    {
     "ename": "FileNotFoundError",
     "evalue": "[Errno 2] No such file or directory: '../data/scraping/all_book_data_ver3[0_20000].json'",
     "output_type": "error",
     "traceback": [
      "\u001b[1;31m---------------------------------------------------------------------------\u001b[0m",
      "\u001b[1;31mFileNotFoundError\u001b[0m                         Traceback (most recent call last)",
      "Cell \u001b[1;32mIn[3], line 6\u001b[0m\n\u001b[0;32m      4\u001b[0m \u001b[38;5;66;03m# JSON 파일 로드\u001b[39;00m\n\u001b[0;32m      5\u001b[0m file_path \u001b[38;5;241m=\u001b[39m \u001b[38;5;124m\"\u001b[39m\u001b[38;5;124m../data/scraping/all_book_data_ver3[0_20000].json\u001b[39m\u001b[38;5;124m\"\u001b[39m  \u001b[38;5;66;03m# 파일 경로 설정\u001b[39;00m\n\u001b[1;32m----> 6\u001b[0m \u001b[38;5;28;01mwith\u001b[39;00m \u001b[38;5;28;43mopen\u001b[39;49m\u001b[43m(\u001b[49m\u001b[43mfile_path\u001b[49m\u001b[43m,\u001b[49m\u001b[43m \u001b[49m\u001b[38;5;124;43m\"\u001b[39;49m\u001b[38;5;124;43mr\u001b[39;49m\u001b[38;5;124;43m\"\u001b[39;49m\u001b[43m,\u001b[49m\u001b[43m \u001b[49m\u001b[43mencoding\u001b[49m\u001b[38;5;241;43m=\u001b[39;49m\u001b[38;5;124;43m\"\u001b[39;49m\u001b[38;5;124;43mutf-8\u001b[39;49m\u001b[38;5;124;43m\"\u001b[39;49m\u001b[43m)\u001b[49m \u001b[38;5;28;01mas\u001b[39;00m f:\n\u001b[0;32m      7\u001b[0m     data \u001b[38;5;241m=\u001b[39m json\u001b[38;5;241m.\u001b[39mload(f)\n\u001b[0;32m      9\u001b[0m \u001b[38;5;66;03m# JSON 데이터를 DataFrame으로 변환\u001b[39;00m\n",
      "File \u001b[1;32mc:\\Users\\psh10\\miniconda3\\envs\\book_recommend\\Lib\\site-packages\\IPython\\core\\interactiveshell.py:324\u001b[0m, in \u001b[0;36m_modified_open\u001b[1;34m(file, *args, **kwargs)\u001b[0m\n\u001b[0;32m    317\u001b[0m \u001b[38;5;28;01mif\u001b[39;00m file \u001b[38;5;129;01min\u001b[39;00m {\u001b[38;5;241m0\u001b[39m, \u001b[38;5;241m1\u001b[39m, \u001b[38;5;241m2\u001b[39m}:\n\u001b[0;32m    318\u001b[0m     \u001b[38;5;28;01mraise\u001b[39;00m \u001b[38;5;167;01mValueError\u001b[39;00m(\n\u001b[0;32m    319\u001b[0m         \u001b[38;5;124mf\u001b[39m\u001b[38;5;124m\"\u001b[39m\u001b[38;5;124mIPython won\u001b[39m\u001b[38;5;124m'\u001b[39m\u001b[38;5;124mt let you open fd=\u001b[39m\u001b[38;5;132;01m{\u001b[39;00mfile\u001b[38;5;132;01m}\u001b[39;00m\u001b[38;5;124m by default \u001b[39m\u001b[38;5;124m\"\u001b[39m\n\u001b[0;32m    320\u001b[0m         \u001b[38;5;124m\"\u001b[39m\u001b[38;5;124mas it is likely to crash IPython. If you know what you are doing, \u001b[39m\u001b[38;5;124m\"\u001b[39m\n\u001b[0;32m    321\u001b[0m         \u001b[38;5;124m\"\u001b[39m\u001b[38;5;124myou can use builtins\u001b[39m\u001b[38;5;124m'\u001b[39m\u001b[38;5;124m open.\u001b[39m\u001b[38;5;124m\"\u001b[39m\n\u001b[0;32m    322\u001b[0m     )\n\u001b[1;32m--> 324\u001b[0m \u001b[38;5;28;01mreturn\u001b[39;00m \u001b[43mio_open\u001b[49m\u001b[43m(\u001b[49m\u001b[43mfile\u001b[49m\u001b[43m,\u001b[49m\u001b[43m \u001b[49m\u001b[38;5;241;43m*\u001b[39;49m\u001b[43margs\u001b[49m\u001b[43m,\u001b[49m\u001b[43m \u001b[49m\u001b[38;5;241;43m*\u001b[39;49m\u001b[38;5;241;43m*\u001b[39;49m\u001b[43mkwargs\u001b[49m\u001b[43m)\u001b[49m\n",
      "\u001b[1;31mFileNotFoundError\u001b[0m: [Errno 2] No such file or directory: '../data/scraping/all_book_data_ver3[0_20000].json'"
     ]
    }
   ],
   "source": [
    "import pandas as pd\n",
    "import json\n",
    "\n",
    "# JSON 파일 로드\n",
    "file_path = \"../data/scraping/all_book_data_ver3.json\"  # 파일 경로 설정\n",
    "with open(file_path, \"r\", encoding=\"utf-8\") as f:\n",
    "    data = json.load(f)\n",
    "\n",
    "# JSON 데이터를 DataFrame으로 변환\n",
    "if isinstance(data, list):\n",
    "    df = pd.DataFrame(data)\n",
    "elif isinstance(data, dict):  # 딕셔너리 형태이면 변환\n",
    "    df = pd.DataFrame.from_dict(data)\n",
    "\n",
    "# 📌 'ISBN' 접두사 제거\n",
    "df[\"isbn13\"] = df[\"isbn13\"].astype(str).str.replace(r'^ISBN', '', regex=True)\n",
    "\n",
    "# 📌 이미지 URL 변환 (JSON 데이터가 로드된 후 직접 수정)\n",
    "df[\"img_url\"] = df[\"img_url\"].astype(str).apply(lambda x: x.replace(\"\\\\/\", \"/\"))\n",
    "\n",
    "# 📌 `isbn13` 값이 숫자가 아닌 경우 삭제\n",
    "df = df[df[\"isbn13\"].str.isdigit()]  # 숫자로만 이루어진 isbn13 값만 유지\n",
    "\n",
    "# 📌 'isbn13' 또는 'publication_date' 값이 None인 행 삭제\n",
    "df.dropna(subset=['isbn13', 'publication_date'], inplace=True)\n",
    "\n",
    "# 📌 모든 컬럼에서 하나라도 None 값이 있는 행 삭제\n",
    "df.dropna(inplace=True)\n",
    "\n",
    "# 📌 수정된 데이터를 JSON으로 저장\n",
    "output_path = \"../data/scraping/all_book_data_ver3_cleaned.json\"\n",
    "df.to_json(output_path, orient=\"records\", force_ascii=False, indent=4)\n",
    "\n",
    "print(f\"✅ 수정 완료! 저장된 파일: {output_path}\")"
   ]
  },
  {
   "cell_type": "code",
   "execution_count": null,
   "metadata": {},
   "outputs": [],
   "source": []
  },
  {
   "cell_type": "markdown",
   "metadata": {},
   "source": [
    "#### 목적 : 데이터베이스가 테이블이 생성되고 json 파일이랑 DB랑 연결되는지 테스트"
   ]
  },
  {
   "cell_type": "code",
   "execution_count": null,
   "metadata": {},
   "outputs": [],
   "source": [
    "# Python 경로 추가\n",
    "import sys\n",
    "import os\n",
    "import json\n",
    "sys.path.append(os.path.abspath(os.path.join(os.path.dirname(\"__file__\"), '..')))\n",
    "\n",
    "from app.database.connection import DatabaseSettings, create_connection\n",
    "from app.services.data_ingestion_service import create_tables\n",
    "from app.services.data_insert_DB import insert_books_and_authors\n",
    "\n",
    "# 데이터베이스 연결 설정\n",
    "db_settings = DatabaseSettings()\n",
    "conn = create_connection(db_settings)\n",
    "\n",
    "if conn:\n",
    "    # 테이블 생성\n",
    "    create_tables(conn)\n",
    "    print('success')\n",
    "\n",
    "    # JSON 파일 경로\n",
    "    json_file_path = \"../data/scraping/all_book_data_ver3_cleaned.json\"\n",
    "\n",
    "    # JSON 데이터를 테이블에 삽입\n",
    "    insert_books_and_authors(conn, json_file_path)\n",
    "\n",
    "    # 데이터 조회 테스트\n",
    "    def test_connection(conn):\n",
    "        \"\"\"테이블 데이터 조회 테스트\"\"\"\n",
    "        try:\n",
    "            cursor = conn.cursor()\n",
    "            cursor.execute(\"SELECT * FROM books;\")\n",
    "            rows = cursor.fetchall()\n",
    "            if rows:\n",
    "                for row in rows:\n",
    "                    print(row)\n",
    "            else:\n",
    "                print(\"No data found in 'books' table.\")\n",
    "        except Exception as e:\n",
    "            print(\"Error during connection test:\", e)\n",
    "        finally:\n",
    "            cursor.close()\n",
    "\n",
    "    test_connection(conn)\n",
    "\n",
    "    # 연결 종료\n",
    "    conn.close()\n",
    "    print(\"Database connection closed.\")\n"
   ]
  }
 ],
 "metadata": {
  "kernelspec": {
   "display_name": "book_recommend",
   "language": "python",
   "name": "python3"
  },
  "language_info": {
   "codemirror_mode": {
    "name": "ipython",
    "version": 3
   },
   "file_extension": ".py",
   "mimetype": "text/x-python",
   "name": "python",
   "nbconvert_exporter": "python",
   "pygments_lexer": "ipython3",
   "version": "3.12.4"
  }
 },
 "nbformat": 4,
 "nbformat_minor": 2
}
