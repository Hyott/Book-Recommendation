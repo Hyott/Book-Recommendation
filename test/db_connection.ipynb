{
 "cells": [
  {
   "cell_type": "markdown",
   "metadata": {},
   "source": [
    "목적 : 데이터베이스가 실제로 연결 되는지 테스트"
   ]
  },
  {
   "cell_type": "markdown",
   "metadata": {},
   "source": [
    "#### 1. python 환경 준비 - kernel restart 필요"
   ]
  },
  {
   "cell_type": "code",
   "execution_count": 1,
   "metadata": {},
   "outputs": [
    {
     "name": "stdout",
     "output_type": "stream",
     "text": [
      "Collecting psycopg2-binary\n",
      "  Using cached psycopg2_binary-2.9.10-cp312-cp312-win_amd64.whl.metadata (5.0 kB)\n",
      "Using cached psycopg2_binary-2.9.10-cp312-cp312-win_amd64.whl (1.2 MB)\n",
      "Installing collected packages: psycopg2-binary\n",
      "Successfully installed psycopg2-binary-2.9.10\n",
      "Note: you may need to restart the kernel to use updated packages.\n"
     ]
    }
   ],
   "source": [
    "# pip install psycopg2-binary"
   ]
  },
  {
   "cell_type": "markdown",
   "metadata": {},
   "source": [
    "#### 2. 데이터베이스 연결"
   ]
  },
  {
   "cell_type": "code",
   "execution_count": null,
   "metadata": {},
   "outputs": [
    {
     "name": "stdout",
     "output_type": "stream",
     "text": [
      "Database connected successfully!\n",
      "Database connection closed.\n"
     ]
    }
   ],
   "source": [
    "# # 데이터베이스 연결 설정\n",
    "# import psycopg2\n",
    "\n",
    "# try:\n",
    "#     conn = psycopg2.connect(\n",
    "#         host = 'localhost',\n",
    "#         port=5432,\n",
    "#         database='book_recommend',\n",
    "#         user='sesac',\n",
    "#         password='1234'\n",
    "#     )\n",
    "\n",
    "#     print('Database connected successfully!')\n",
    "\n",
    "#     # 커서 생성\n",
    "#     cursor = conn.cursor()\n",
    "\n",
    "# except Exception as e:\n",
    "#     print(\"An error occurred while connecting to the database:\", e)\n",
    "\n",
    "# finally:\n",
    "#     if 'conn' in locals() and conn:\n",
    "#         conn.close()\n",
    "#         print(\"Database connection closed.\")"
   ]
  },
  {
   "cell_type": "code",
   "execution_count": 1,
   "metadata": {},
   "outputs": [
    {
     "name": "stdout",
     "output_type": "stream",
     "text": [
      "Database settings successfully!\n",
      "Database connected successfully!\n"
     ]
    }
   ],
   "source": [
    "# 데이터베이스 연결 설정\n",
    "import psycopg2\n",
    "from pydantic import BaseModel\n",
    "\n",
    "class DatabaseSettings(BaseModel):\n",
    "    host: str = 'localhost'\n",
    "    port: int = 5432\n",
    "    database: str = 'book_recommend'\n",
    "    user: str = 'sesac'\n",
    "    password: str = '1234'\n",
    "\n",
    "    print('Database settings successfully!')\n",
    "\n",
    "\n",
    "# 데이터베이스 연결 함수\n",
    "def create_connection(settings: DatabaseSettings):\n",
    "    \"\"\"데이터베이스 연결 생성\"\"\"\n",
    "    try:\n",
    "        conn = psycopg2.connect(\n",
    "            host=settings.host,\n",
    "            port=settings.port,\n",
    "            database=settings.database,\n",
    "            user=settings.user,\n",
    "            password=settings.password\n",
    "        )\n",
    "        print(\"Database connected successfully!\")\n",
    "        return conn\n",
    "    except Exception as e:\n",
    "        print(\"Database connection failed:\", e)\n",
    "        return None\n",
    "    \n",
    "# 데이터베이스 연결\n",
    "db_settings = DatabaseSettings()\n",
    "conn = create_connection(db_settings)"
   ]
  },
  {
   "cell_type": "code",
   "execution_count": 2,
   "metadata": {},
   "outputs": [
    {
     "name": "stdout",
     "output_type": "stream",
     "text": [
      "Query executed successfully!\n",
      "Query executed successfully!\n",
      "Query executed successfully!\n",
      "Query executed successfully!\n",
      "Query executed successfully!\n"
     ]
    }
   ],
   "source": [
    "# 테이블 생성\n",
    "\n",
    "def create_tables(conn):\n",
    "    queries = [\n",
    "        \"\"\"\n",
    "        CREATE TABLE IF NOT EXISTS books (\n",
    "            isbn VARCHAR(20) PRIMARY KEY,\n",
    "            title VARCHAR(255) NOT NULL,\n",
    "            publisher VARCHAR(255),\n",
    "            author VARCHAR(255),\n",
    "            description TEXT\n",
    "        );\n",
    "        \"\"\",\n",
    "        \"\"\"\n",
    "        CREATE TABLE IF NOT EXISTS book_highlights (\n",
    "            isbn VARCHAR(20),\n",
    "            highlight TEXT NOT NULL,\n",
    "            FOREIGN KEY (isbn) REFERENCES books (isbn) ON DELETE CASCADE\n",
    "        );\n",
    "        \"\"\",\n",
    "        \"\"\"\n",
    "        CREATE TABLE IF NOT EXISTS tags (\n",
    "            tag_id SERIAL PRIMARY KEY,\n",
    "            tag_name VARCHAR(50) UNIQUE NOT NULL\n",
    "        );\n",
    "        \"\"\",\n",
    "        \"\"\"\n",
    "        CREATE TABLE IF NOT EXISTS book_tags (\n",
    "            isbn VARCHAR(20),\n",
    "            tag_id INT,\n",
    "            PRIMARY KEY (isbn, tag_id),\n",
    "            FOREIGN KEY (isbn) REFERENCES books (isbn) ON DELETE CASCADE,\n",
    "            FOREIGN KEY (tag_id) REFERENCES tags (tag_id) ON DELETE CASCADE\n",
    "        );\n",
    "        \"\"\",\n",
    "        \"\"\"\n",
    "        CREATE TABLE IF NOT EXISTS user_choice_tags (\n",
    "            user_id INT,\n",
    "            tag_id INT,\n",
    "            PRIMARY KEY (user_id, tag_id),\n",
    "            FOREIGN KEY (tag_id) REFERENCES tags (tag_id) ON DELETE CASCADE\n",
    "        );\n",
    "        \"\"\"\n",
    "    ]\n",
    "\n",
    "\n",
    "    cursor = None\n",
    "    try:\n",
    "        cursor = conn.cursor()\n",
    "        for query in queries:\n",
    "            try:\n",
    "                cursor.execute(query)\n",
    "                conn.commit()  # 각 쿼리를 개별적으로 커밋\n",
    "                print(\"Query executed successfully!\")\n",
    "            except Exception as e:\n",
    "                conn.rollback()  # 특정 쿼리에서 실패하면 롤백\n",
    "                print(f\"Error executing query: {e}\")\n",
    "    except Exception as e:\n",
    "        print(\"Error during table creation process:\", e)\n",
    "    finally:\n",
    "        cursor.close()\n",
    "\n",
    "# 테이블 생성 호출\n",
    "create_tables(conn)"
   ]
  },
  {
   "cell_type": "code",
   "execution_count": 3,
   "metadata": {},
   "outputs": [
    {
     "name": "stdout",
     "output_type": "stream",
     "text": [
      "Sample data inserted successfully!\n"
     ]
    }
   ],
   "source": [
    "def insert_sample_data(conn):\n",
    "    \"\"\"테이블에 샘플 데이터 삽입\"\"\"\n",
    "    sample_queries = [\n",
    "        \"\"\"\n",
    "        INSERT INTO books (isbn, title, publisher, author, description)\n",
    "        VALUES\n",
    "        ('9781234567897', 'Example Book', 'Example Publisher', 'John Doe', 'An example book for testing.')\n",
    "        ON CONFLICT (isbn) DO NOTHING;\n",
    "        \"\"\",\n",
    "        \"\"\"\n",
    "        INSERT INTO tags (tag_name)\n",
    "        VALUES\n",
    "        ('Interesting'), ('Classic'), ('Educational')\n",
    "        ON CONFLICT (tag_name) DO NOTHING;\n",
    "        \"\"\",\n",
    "        \"\"\"\n",
    "        INSERT INTO book_tags (isbn, tag_id)\n",
    "        VALUES\n",
    "        ('9781234567897', 1), ('9781234567897', 2)\n",
    "        ON CONFLICT DO NOTHING;\n",
    "        \"\"\",\n",
    "        \"\"\"\n",
    "        INSERT INTO user_choice_tags (user_id, tag_id)\n",
    "        VALUES\n",
    "        (1, 1), (1, 3)\n",
    "        ON CONFLICT DO NOTHING;\n",
    "        \"\"\"\n",
    "    ]\n",
    "\n",
    "    try:\n",
    "        cursor = conn.cursor()\n",
    "        for query in sample_queries:\n",
    "            cursor.execute(query)\n",
    "        conn.commit()\n",
    "        print(\"Sample data inserted successfully!\")\n",
    "    except Exception as e:\n",
    "        print(\"Error inserting sample data:\", e)\n",
    "    finally:\n",
    "        cursor.close()\n",
    "\n",
    "# 샘플 데이터 삽입 호출\n",
    "insert_sample_data(conn)"
   ]
  },
  {
   "cell_type": "code",
   "execution_count": 4,
   "metadata": {},
   "outputs": [
    {
     "name": "stdout",
     "output_type": "stream",
     "text": [
      "Data in 'books' table:\n",
      "('9781234567897', 'Example Book', 'Example Publisher', 'John Doe', 'An example book for testing.')\n"
     ]
    }
   ],
   "source": [
    "def test_connection(conn):\n",
    "    \"\"\"데이터베이스 연결 및 데이터 조회 테스트\"\"\"\n",
    "    try:\n",
    "        cursor = conn.cursor()\n",
    "        cursor.execute(\"SELECT * FROM books;\")\n",
    "        rows = cursor.fetchall()\n",
    "        print(\"Data in 'books' table:\")\n",
    "        for row in rows:\n",
    "            print(row)\n",
    "    except Exception as e:\n",
    "        print(\"Error during connection test:\", e)\n",
    "    finally:\n",
    "        cursor.close()\n",
    "\n",
    "# 데이터 조회 테스트 호출\n",
    "test_connection(conn)\n"
   ]
  },
  {
   "cell_type": "code",
   "execution_count": null,
   "metadata": {},
   "outputs": [],
   "source": []
  }
 ],
 "metadata": {
  "kernelspec": {
   "display_name": "book_recommend",
   "language": "python",
   "name": "python3"
  },
  "language_info": {
   "codemirror_mode": {
    "name": "ipython",
    "version": 3
   },
   "file_extension": ".py",
   "mimetype": "text/x-python",
   "name": "python",
   "nbconvert_exporter": "python",
   "pygments_lexer": "ipython3",
   "version": "3.12.4"
  }
 },
 "nbformat": 4,
 "nbformat_minor": 2
}
