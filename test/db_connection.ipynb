{
 "cells": [
  {
   "cell_type": "markdown",
   "metadata": {},
   "source": [
    "목적 : 데이터베이스가 실제로 연결 되는지 테스트"
   ]
  },
  {
   "cell_type": "code",
   "execution_count": 7,
   "metadata": {},
   "outputs": [
    {
     "name": "stdout",
     "output_type": "stream",
     "text": [
      "Database settings successfully!\n",
      "Database connected successfully!\n",
      "Query executed successfully!\n",
      "Query executed successfully!\n",
      "Query executed successfully!\n",
      "Query executed successfully!\n",
      "Query executed successfully!\n",
      "Sample data inserted successfully!\n",
      "Data in 'books' table:\n",
      "('9781234567897', 'Example Book', 'Example Publisher', 'John Doe', 'An example book for testing.')\n",
      "Database connection closed.\n"
     ]
    }
   ],
   "source": [
    "# 데이터 베이스가 실제로 연결되는지 테스트\n",
    "\n",
    "# Python 경로 추가\n",
    "import sys\n",
    "import os\n",
    "sys.path.append(os.path.abspath(os.path.join(os.path.dirname(\"__file__\"), '..')))\n",
    "\n",
    "from app.database.connection import DatabaseSettings, create_connection\n",
    "from app.services.data_ingestion_service import create_tables, insert_sample_data\n",
    "\n",
    "# 데이터베이스 연결 설정\n",
    "db_settings = DatabaseSettings()\n",
    "conn = create_connection(db_settings)\n",
    "\n",
    "if conn:\n",
    "    # 테이블 생성 및 샘플 데이터 삽입\n",
    "    create_tables(conn)\n",
    "    insert_sample_data(conn)\n",
    "\n",
    "    # 데이터 조회 테스트\n",
    "    def test_connection(conn):\n",
    "        \"\"\"테이블 데이터 조회 테스트\"\"\"\n",
    "        try:\n",
    "            cursor = conn.cursor()\n",
    "            cursor.execute(\"SELECT * FROM books;\")\n",
    "            rows = cursor.fetchall()\n",
    "            print(\"Data in 'books' table:\")\n",
    "            for row in rows:\n",
    "                print(row)\n",
    "        except Exception as e:\n",
    "            print(\"Error during connection test:\", e)\n",
    "        finally:\n",
    "            cursor.close()\n",
    "\n",
    "    test_connection(conn)\n",
    "\n",
    "    # 연결 종료\n",
    "    conn.close()\n",
    "    print(\"Database connection closed.\")\n"
   ]
  }
 ],
 "metadata": {
  "kernelspec": {
   "display_name": "book_recommend",
   "language": "python",
   "name": "python3"
  },
  "language_info": {
   "codemirror_mode": {
    "name": "ipython",
    "version": 3
   },
   "file_extension": ".py",
   "mimetype": "text/x-python",
   "name": "python",
   "nbconvert_exporter": "python",
   "pygments_lexer": "ipython3",
   "version": "3.12.4"
  }
 },
 "nbformat": 4,
 "nbformat_minor": 2
}
