{
 "cells": [
  {
   "cell_type": "markdown",
   "metadata": {},
   "source": [
    "목적 : 데이터베이스가 실제로 연결 되는지 테스트"
   ]
  },
  {
   "cell_type": "code",
   "execution_count": null,
   "metadata": {},
   "outputs": [],
   "source": []
  }
 ],
 "metadata": {
  "language_info": {
   "name": "python"
  }
 },
 "nbformat": 4,
 "nbformat_minor": 2
}
