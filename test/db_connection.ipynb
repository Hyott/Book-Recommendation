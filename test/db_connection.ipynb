{
 "cells": [
  {
   "cell_type": "markdown",
   "metadata": {},
   "source": [
    "#### 목적 : 데이터베이스가 테이블이 생성되고 json 파일이랑 DB랑 연결되는지 테스트"
   ]
  },
  {
   "cell_type": "code",
   "execution_count": null,
   "metadata": {},
   "outputs": [],
   "source": [
    "# Python 경로 추가\n",
    "import sys\n",
    "import os\n",
    "import json\n",
    "sys.path.append(os.path.abspath(os.path.join(os.path.dirname(\"__file__\"), '..')))\n",
    "\n",
    "from app.database.connection import DatabaseSettings, create_connection\n",
    "from app.services.data_ingestion_service import create_tables\n",
    "from app.services.data_insert_DB import insert_books_and_authors\n",
    "\n",
    "# 데이터베이스 연결 설정\n",
    "db_settings = DatabaseSettings()\n",
    "conn = create_connection(db_settings)\n",
    "\n",
    "if conn:\n",
    "    # 테이블 생성\n",
    "    create_tables(conn)\n",
    "    print('success')\n",
    "\n",
    "    # JSON 파일 경로\n",
    "    json_file_path = \"../data/scraping/all_book_data.json\"\n",
    "\n",
    "    # JSON 데이터를 테이블에 삽입\n",
    "    insert_books_and_authors(conn, json_file_path)\n",
    "\n",
    "    # 데이터 조회 테스트\n",
    "    def test_connection(conn):\n",
    "        \"\"\"테이블 데이터 조회 테스트\"\"\"\n",
    "        try:\n",
    "            cursor = conn.cursor()\n",
    "            cursor.execute(\"SELECT * FROM books;\")\n",
    "            rows = cursor.fetchall()\n",
    "            if rows:\n",
    "                for row in rows:\n",
    "                    print(row)\n",
    "            else:\n",
    "                print(\"No data found in 'books' table.\")\n",
    "        except Exception as e:\n",
    "            print(\"Error during connection test:\", e)\n",
    "        finally:\n",
    "            cursor.close()\n",
    "\n",
    "    test_connection(conn)\n",
    "\n",
    "    # 연결 종료\n",
    "    conn.close()\n",
    "    print(\"Database connection closed.\")\n"
   ]
  }
 ],
 "metadata": {
  "kernelspec": {
   "display_name": "book_recommend",
   "language": "python",
   "name": "python3"
  },
  "language_info": {
   "codemirror_mode": {
    "name": "ipython",
    "version": 3
   },
   "file_extension": ".py",
   "mimetype": "text/x-python",
   "name": "python",
   "nbconvert_exporter": "python",
   "pygments_lexer": "ipython3",
   "version": "3.9.21"
  }
 },
 "nbformat": 4,
 "nbformat_minor": 2
}
