{
 "cells": [
  {
   "cell_type": "markdown",
   "metadata": {},
   "source": [
    "#### 0) 데이터 확인, 전처리 - 필요없음/완료 파일 드라이브에 업로드 완료!"
   ]
  },
  {
   "cell_type": "code",
   "execution_count": 1,
   "metadata": {},
   "outputs": [
    {
     "name": "stdout",
     "output_type": "stream",
     "text": [
      "title                0\n",
      "description          0\n",
      "key_sentences        0\n",
      "author               0\n",
      "publisher            0\n",
      "isbn13              13\n",
      "img_url              0\n",
      "publication_date    14\n",
      "dtype: int64\n"
     ]
    }
   ],
   "source": [
    "# None 값이 있는지 확인\n",
    "import pandas as pd\n",
    "import json\n",
    "\n",
    "file_path = \"../data/scraping/all_book_data_ver3.json\"\n",
    "with open(file_path, \"r\", encoding=\"utf-8\") as f:\n",
    "    data = json.load(f)\n",
    "\n",
    "# JSON 데이터가 리스트인지 딕셔너리인지 확인 후 변환\n",
    "if isinstance(data, list):\n",
    "    df = pd.DataFrame(data)\n",
    "elif isinstance(data, dict):  # 딕셔너리 형태이면 변환 (예: {key: list})\n",
    "    df = pd.DataFrame.from_dict(data)\n",
    "\n",
    "# None 값 확인\n",
    "none_count = df.isna().sum()\n",
    "\n",
    "print(none_count)"
   ]
  },
  {
   "cell_type": "markdown",
   "metadata": {},
   "source": [
    "중복 null 13개 + pulication_date 1개 => 총 14개 null"
   ]
  },
  {
   "cell_type": "code",
   "execution_count": 2,
   "metadata": {},
   "outputs": [
    {
     "name": "stdout",
     "output_type": "stream",
     "text": [
      "✅ 수정 완료! 저장된 파일: ../data/scraping/all_book_data_ver3_cleaned.json\n"
     ]
    }
   ],
   "source": [
    "import pandas as pd\n",
    "import json\n",
    "\n",
    "# JSON 파일 로드\n",
    "file_path = \"../data/scraping/all_book_data_ver3.json\"  # 파일 경로 설정\n",
    "with open(file_path, \"r\", encoding=\"utf-8\") as f:\n",
    "    data = json.load(f)\n",
    "\n",
    "# JSON 데이터를 DataFrame으로 변환\n",
    "if isinstance(data, list):\n",
    "    df = pd.DataFrame(data)\n",
    "elif isinstance(data, dict):  # 딕셔너리 형태이면 변환\n",
    "    df = pd.DataFrame.from_dict(data)\n",
    "\n",
    "# 📌 'ISBN' 접두사 제거\n",
    "df[\"isbn13\"] = df[\"isbn13\"].astype(str).str.replace(r'^ISBN', '', regex=True)\n",
    "\n",
    "# 📌 이미지 URL 변환 (JSON 데이터가 로드된 후 직접 수정)\n",
    "df[\"img_url\"] = df[\"img_url\"].astype(str).apply(lambda x: x.replace(\"\\\\/\", \"/\"))\n",
    "\n",
    "# 📌 `isbn13` 값이 숫자가 아닌 경우 삭제\n",
    "df = df[df[\"isbn13\"].str.isdigit()]  # 숫자로만 이루어진 isbn13 값만 유지\n",
    "\n",
    "# 📌 'isbn13' 또는 'publication_date' 값이 None인 행 삭제\n",
    "df.dropna(subset=['isbn13', 'publication_date'], inplace=True)\n",
    "\n",
    "# 📌 모든 컬럼에서 하나라도 None 값이 있는 행 삭제\n",
    "df.dropna(inplace=True)\n",
    "\n",
    "# 📌 수정된 데이터를 JSON으로 저장\n",
    "output_path = \"../data/scraping/all_book_data_ver3_cleaned.json\"\n",
    "df.to_json(output_path, orient=\"records\", force_ascii=False, indent=4)\n",
    "\n",
    "print(f\"✅ 수정 완료! 저장된 파일: {output_path}\")"
   ]
  },
  {
   "cell_type": "code",
   "execution_count": 4,
   "metadata": {},
   "outputs": [
    {
     "name": "stdout",
     "output_type": "stream",
     "text": [
      "핵심 문장 필터링 완료! 결과 저장됨:  ../data/scraping/all_book_data_ver3_filtered.json\n"
     ]
    }
   ],
   "source": [
    "import json\n",
    "import os\n",
    "import re\n",
    "\n",
    "# 📌 JSON 파일 경로\n",
    "json_file_path = \"../data/scraping/all_book_data_ver3_cleaned.json\"\n",
    "output_json_path = \"../data/scraping/all_book_data_ver3_filtered.json\"\n",
    "\n",
    "# JSON 파일 로드\n",
    "with open(json_file_path, \"r\", encoding=\"utf-8\") as f:\n",
    "    book_data = json.load(f)\n",
    "\n",
    "\n",
    "filtered_books = []\n",
    "for book in book_data:\n",
    "    if \"key_sentences\" in book and \"isbn13\" in book:\n",
    "        if isinstance(book[\"key_sentences\"], str):\n",
    "            # 1️⃣ '중에서' 이후의 내용 제거\n",
    "            book[\"key_sentences\"] = re.split(r'중에서', book[\"key_sentences\"], maxsplit=1)[0].strip() + '중에서' if '중에서' in book[\"key_sentences\"] else book[\"key_sentences\"]\n",
    "            # 2️⃣ '--- p.숫자' 등의 구분자를 기준으로 분리\n",
    "            book[\"key_sentences\"] = re.split(r'---', book[\"key_sentences\"], maxsplit=1)[0].strip()\n",
    "\n",
    "            filtered_books.append({\n",
    "                \"isbn\" : book[\"isbn13\"],\n",
    "                \"key_sentences\": book[\"key_sentences\"]\n",
    "            })\n",
    "\n",
    "            \n",
    "# Json 파일 저장\n",
    "with open(output_json_path, \"w\", encoding=\"utf-8\") as f:\n",
    "    json.dump(filtered_books, f, ensure_ascii=False, indent=4)\n",
    "\n",
    "print(\"핵심 문장 필터링 완료! 결과 저장됨: \", output_json_path)"
   ]
  },
  {
   "cell_type": "markdown",
   "metadata": {},
   "source": [
    "#### 1) 데이터베이스가 테이블이 생성되고 json 파일이랑 DB랑 연결\n",
    "- 구글 드라이브에서 all_book_data_ver3_cleaned.json파일 다운로드"
   ]
  },
  {
   "cell_type": "code",
   "execution_count": 11,
   "metadata": {},
   "outputs": [],
   "source": [
    "# from IPython.core.history import HistoryManager\n",
    "\n",
    "# history_manager = HistoryManager()\n",
    "# history_manager.reset()"
   ]
  },
  {
   "cell_type": "code",
   "execution_count": 0,
   "metadata": {},
   "outputs": [
    {
     "name": "stdout",
     "output_type": "stream",
     "text": [
      "Database settings successfully!\n"
     ]
    }
   ],
   "source": [
    "# Python 경로 추가\n",
    "import sys\n",
    "import os\n",
    "import json\n",
    "sys.path.append(os.path.abspath(os.path.join(os.path.dirname(\"__file__\"), '..')))\n",
    "\n",
    "from app.database.connection import DatabaseSettings, create_connection\n",
    "from app.services.data_ingestion_service import create_tables\n",
    "from app.services.data_insert_DB import insert_books\n",
    "\n",
    "# 데이터베이스 연결 설정\n",
    "db_settings = DatabaseSettings()\n",
    "conn = create_connection(db_settings)\n",
    "\n",
    "if conn:\n",
    "    # 테이블 생성\n",
    "    create_tables(conn)\n",
    "    print('success')\n",
    "\n",
    "    # JSON 파일 경로\n",
    "    json_file_path = \"../data/scraping/all_book_data_ver3_cleaned.json\"\n",
    "\n",
    "    # JSON 데이터를 테이블에 삽입\n",
    "    insert_books(conn, json_file_path)\n",
    "\n",
    "    # 데이터 조회 테스트\n",
    "    def test_connection(conn):\n",
    "        \"\"\"테이블 데이터 조회 테스트\"\"\"\n",
    "        try:\n",
    "            cursor = conn.cursor()\n",
    "            cursor.execute(\"SELECT * FROM books;\")\n",
    "            rows = cursor.fetchall()\n",
    "            if rows:\n",
    "                for row in rows:\n",
    "                    print(row)\n",
    "            else:\n",
    "                print(\"No data found in 'books' table.\")\n",
    "        except Exception as e:\n",
    "            print(\"Error during connection test:\", e)\n",
    "        finally:\n",
    "            cursor.close()\n",
    "\n",
    "    test_connection(conn)\n",
    "\n",
    "    # 연결 종료\n",
    "    conn.close()\n",
    "    print(\"Database connection closed.\")"
   ]
  },
  {
   "cell_type": "code",
   "execution_count": 9,
   "metadata": {},
   "outputs": [
    {
     "name": "stdout",
     "output_type": "stream",
     "text": [
      "/Users/jin0/Project/Book-reccomendation/test\n"
     ]
    },
    {
     "ename": "NameError",
     "evalue": "name 'json_file' is not defined",
     "output_type": "error",
     "traceback": [
      "\u001b[0;31m---------------------------------------------------------------------------\u001b[0m",
      "\u001b[0;31mNameError\u001b[0m                                 Traceback (most recent call last)",
      "Cell \u001b[0;32mIn[9], line 3\u001b[0m\n\u001b[1;32m      1\u001b[0m \u001b[38;5;28;01mimport\u001b[39;00m \u001b[38;5;21;01mos\u001b[39;00m\n\u001b[1;32m      2\u001b[0m \u001b[38;5;28mprint\u001b[39m(os\u001b[38;5;241m.\u001b[39mgetcwd())  \u001b[38;5;66;03m# 현재 작업 디렉토리 출력\u001b[39;00m\n\u001b[0;32m----> 3\u001b[0m \u001b[38;5;28mprint\u001b[39m(os\u001b[38;5;241m.\u001b[39mpath\u001b[38;5;241m.\u001b[39mexists(\u001b[43mjson_file\u001b[49m))  \u001b[38;5;66;03m# 파일 존재 여부 확인\u001b[39;00m\n",
      "\u001b[0;31mNameError\u001b[0m: name 'json_file' is not defined"
     ]
    }
   ],
   "source": [
    "import os\n",
    "print(os.getcwd())  # 현재 작업 디렉토리 출력\n",
    "print(os.path.exists(json_file))  # 파일 존재 여부 확인"
   ]
  },
  {
   "cell_type": "code",
   "execution_count": 10,
   "metadata": {},
   "outputs": [
    {
     "name": "stdout",
     "output_type": "stream",
     "text": [
      "/Users/jin0/Project/Book-reccomendation/test\n"
     ]
    }
   ],
   "source": [
    "import os\n",
    "print(os.getcwd())  # 현재 디렉토리 출력"
   ]
  },
  {
   "cell_type": "code",
   "execution_count": 0,
   "metadata": {},
   "outputs": [],
   "source": [
    "# 생성문자와 해시태그 데이터 적재\n",
    "import os\n",
    "import sys\n",
    "\n",
    "# 현재 작업 디렉토리 확인 및 프로젝트 경로 추가\n",
    "current_dir = os.getcwd()\n",
    "project_dir = os.path.abspath(os.path.join(current_dir, \"../\"))  # 현재 디렉토리에서 상위 두 단계 경로를 추적\n",
    "sys.path.append(project_dir)\n",
    "\n",
    "# 데이터 삽입 함수 import\n",
    "from app.services.data_insert_DB import insert_hashtag_message_data\n",
    "from app.database.connection import DatabaseSettings, create_connection\n",
    "\n",
    "def main():\n",
    "    settings = DatabaseSettings()  # DB 설정 객체 생성\n",
    "    conn = create_connection(settings)  # DB 연결\n",
    "    \n",
    "    if conn:\n",
    "        try:\n",
    "            with conn.cursor() as cursor:\n",
    "                json_file = \"../data/scraping/all_book_data_ver3_cleaned.json\"  # 파일명 안전하게 수정\n",
    "                insert_hashtag_message_data(cursor, json_file)\n",
    "            conn.commit()\n",
    "            print(\"✅ 데이터 삽입 완료!\")\n",
    "        except Exception as e:\n",
    "            conn.rollback()\n",
    "            print(f\"⚠️ 오류 발생: {e}\")\n",
    "        finally:\n",
    "            conn.close()\n",
    "            print(\"📌 Database connection closed.\")\n",
    "\n",
    "if __name__ == \"__main__\":\n",
    "    main()"
   ]
  },
  {
   "cell_type": "code",
   "execution_count": null,
   "metadata": {},
   "outputs": [],
   "source": []
  },
  {
   "cell_type": "code",
   "execution_count": null,
   "metadata": {},
   "outputs": [],
   "source": [
    "from app.services.data_insert_DB import insert_hashtag_message_data\n",
    "from app.database.connection import DatabaseSettings, create_connection\n",
    "\n"
   ]
  }
 ],
 "metadata": {
  "kernelspec": {
   "display_name": "book_recommend",
   "language": "python",
   "name": "python3"
  },
  "language_info": {
   "codemirror_mode": {
    "name": "ipython",
    "version": 3
   },
   "file_extension": ".py",
   "mimetype": "text/x-python",
   "name": "python",
   "nbconvert_exporter": "python",
   "pygments_lexer": "ipython3",
   "version": "3.9.21"
  }
 },
 "nbformat": 4,
 "nbformat_minor": 2
}
