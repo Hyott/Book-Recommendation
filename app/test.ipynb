{
 "cells": [
  {
   "cell_type": "code",
   "execution_count": 6,
   "metadata": {},
   "outputs": [
    {
     "name": "stdout",
     "output_type": "stream",
     "text": [
      "Alpha 배열의 1이 아닌 값들:\n",
      "Index: 3, Value: 2\n",
      "Index: 7, Value: 2\n",
      "Beta 배열의 1이 아닌 값들:\n",
      "Index: 7, Value: 2\n",
      "Index: 500, Value: 2\n"
     ]
    }
   ],
   "source": [
    "import numpy as np\n",
    "\n",
    "# 길이 1000의 리스트를 모두 0으로 초기화\n",
    "alpha = np.ones(1000, dtype=int)\n",
    "beta = np.ones(1000, dtype=int)\n",
    "\n",
    "def update_value(arr, index):\n",
    "    \"\"\"특정 배열(arr)의 index 위치 값을 1 증가시키는 함수\"\"\"\n",
    "    if 0 <= index < len(arr):\n",
    "        arr[index] += 1\n",
    "    else:\n",
    "        print(\"Invalid index\")\n",
    "\n",
    "def print_nonone(arr, name):\n",
    "    \"\"\"배열에서 1이 아닌 값의 인덱스와 값을 출력하는 함수\"\"\"\n",
    "    nonone_indices = np.where(arr != 1)[0]  # 1이 아닌 값들의 인덱스\n",
    "    if len(nonone_indices) == 0:\n",
    "        print(f\"{name} 배열에 1이 아닌 값이 없습니다.\")\n",
    "    else:\n",
    "        print(f\"{name} 배열의 1이 아닌 값들:\")\n",
    "        for idx in nonone_indices:\n",
    "            print(f\"Index: {idx}, Value: {arr[idx]}\")\n",
    "\n",
    "# 예제 업데이트\n",
    "update_value(alpha, 3)\n",
    "update_value(alpha, 7)\n",
    "update_value(beta, 7)\n",
    "update_value(beta, 500)\n",
    "\n",
    "# 결과 출력\n",
    "print_nonone(alpha, \"Alpha\")\n",
    "print_nonone(beta, \"Beta\")\n"
   ]
  }
 ],
 "metadata": {
  "kernelspec": {
   "display_name": "mecab_env",
   "language": "python",
   "name": "python3"
  },
  "language_info": {
   "codemirror_mode": {
    "name": "ipython",
    "version": 3
   },
   "file_extension": ".py",
   "mimetype": "text/x-python",
   "name": "python",
   "nbconvert_exporter": "python",
   "pygments_lexer": "ipython3",
   "version": "3.9.21"
  }
 },
 "nbformat": 4,
 "nbformat_minor": 2
}
