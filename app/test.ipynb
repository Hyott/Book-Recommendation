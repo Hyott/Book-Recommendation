{
 "cells": [
  {
   "cell_type": "code",
   "execution_count": 3,
   "metadata": {},
   "outputs": [
    {
     "name": "stdout",
     "output_type": "stream",
     "text": [
      "API_BASE_URL: None\n"
     ]
    }
   ],
   "source": [
    "import os\n",
    "\n",
    "# 환경변수 가져오기\n",
    "api_base_url = os.environ.get(\"API_BASE_URL\")\n",
    "\n",
    "print(f\"API_BASE_URL: {api_base_url}\")"
   ]
  }
 ],
 "metadata": {
  "kernelspec": {
   "display_name": "mecab_env",
   "language": "python",
   "name": "python3"
  },
  "language_info": {
   "codemirror_mode": {
    "name": "ipython",
    "version": 3
   },
   "file_extension": ".py",
   "mimetype": "text/x-python",
   "name": "python",
   "nbconvert_exporter": "python",
   "pygments_lexer": "ipython3",
   "version": "3.9.21"
  }
 },
 "nbformat": 4,
 "nbformat_minor": 2
}
