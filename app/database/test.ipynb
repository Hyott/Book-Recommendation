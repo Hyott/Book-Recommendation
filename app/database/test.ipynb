{
 "cells": [
  {
   "cell_type": "code",
   "execution_count": 2,
   "metadata": {},
   "outputs": [
    {
     "data": {
      "text/plain": [
       "\"Database 'book_recommend' already exists.\""
      ]
     },
     "execution_count": 2,
     "metadata": {},
     "output_type": "execute_result"
    }
   ],
   "source": [
    "# import psycopg2\n",
    "# from psycopg2 import sql\n",
    "# from sqlalchemy import create_engine, MetaData\n",
    "# from sqlalchemy.ext.declarative import declarative_base\n",
    "# from sqlalchemy import Column, String, Integer, Boolean, DateTime, ForeignKey\n",
    "# from sqlalchemy.orm import sessionmaker\n",
    "\n",
    "from connection import ensure_database_exists, setup_database_and_tables\n",
    "\n",
    "host = \"localhost\"\n",
    "port = 5432\n",
    "user = \"postgres\"\n",
    "password = \"1234\"\n",
    "database_name = \"book_recommend\"\n",
    "\n",
    "ensure_database_exists(host, port, user, password, database_name)"
   ]
  },
  {
   "cell_type": "code",
   "execution_count": 3,
   "metadata": {},
   "outputs": [
    {
     "name": "stdout",
     "output_type": "stream",
     "text": [
      "Tables created in database 'book_recommend'.\n"
     ]
    }
   ],
   "source": [
    "from sqlalchemy.orm import sessionmaker\n",
    "\n",
    "\n",
    "# 데이터베이스 및 테이블 설정\n",
    "engine = setup_database_and_tables(host, port, user, password, database_name)\n",
    "\n",
    "\n",
    "# 세션 생성 (옵션)\n",
    "Session = sessionmaker(bind=engine)\n",
    "session = Session()\n",
    "\n",
    "# 여기서 데이터 삽입/조회 가능\n",
    "session.close()"
   ]
  },
  {
   "cell_type": "code",
   "execution_count": 10,
   "metadata": {},
   "outputs": [],
   "source": []
  }
 ],
 "metadata": {
  "kernelspec": {
   "display_name": "book_recommend",
   "language": "python",
   "name": "python3"
  },
  "language_info": {
   "codemirror_mode": {
    "name": "ipython",
    "version": 3
   },
   "file_extension": ".py",
   "mimetype": "text/x-python",
   "name": "python",
   "nbconvert_exporter": "python",
   "pygments_lexer": "ipython3",
   "version": "3.9.20"
  }
 },
 "nbformat": 4,
 "nbformat_minor": 2
}
