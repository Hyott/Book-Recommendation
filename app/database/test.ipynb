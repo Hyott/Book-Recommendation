{
 "cells": [
  {
   "cell_type": "markdown",
   "metadata": {},
   "source": [
    "### "
   ]
  },
  {
   "cell_type": "code",
   "execution_count": 1,
   "metadata": {},
   "outputs": [],
   "source": [
    "import json\n",
    "from sqlalchemy.orm import sessionmaker\n",
    "from sqlalchemy.exc import IntegrityError\n",
    "from models import BookTable, TagTable, SentenceTable, BookTagTable, UserResponseTable\n",
    "from connection import database_engine\n",
    "\n",
    "# 데이터베이스 연결 설정\n",
    "host = \"localhost\"\n",
    "port = 5432\n",
    "user = \"postgres\"\n",
    "password = \"1234\"\n",
    "database_name = \"book_recommend\"\n",
    "\n",
    "engine = database_engine(host, port, user, password, database_name)\n",
    "Session = sessionmaker(bind=engine)\n",
    "session = Session()"
   ]
  },
  {
   "cell_type": "code",
   "execution_count": 3,
   "metadata": {},
   "outputs": [],
   "source": [
    "json_file_path = '../../data/scraping/all_book_data_ver_cleaned.json'\n",
    "with open(json_file_path, 'r', encoding='utf-8') as file:\n",
    "  data = json.load(file)\n",
    "  for book in data:      \n",
    "    book_entry = BookTable(\n",
    "                isbn=book[\"isbn13\"],\n",
    "                title=book[\"title\"],\n",
    "                publisher=book[\"publisher\"],\n",
    "                author=book[\"author\"],\n",
    "                image_url=book[\"img_url\"],\n",
    "                category='essay',\n",
    "                publication_date = book[\"publication_date\"]\n",
    "            )\n",
    "    try:\n",
    "      # 데이터 삽입\n",
    "      session.merge(book_entry)\n",
    "      session.commit()\n",
    "    except IntegrityError:\n",
    "      # 중복된 키가 발생한 경우 롤백 후 처리\n",
    "      session.rollback()\n",
    "      print(f\"중복된 ISBN: {book.isbn} - 삽입을 건너뜁니다.\")\n",
    "    except Exception as e:\n",
    "        # 기타 예외 발생 시 롤백 및 에러 메시지 출력\n",
    "        session.rollback()\n",
    "        print(f\"오류 발생: {e}\")"
   ]
  },
  {
   "cell_type": "code",
   "execution_count": null,
   "metadata": {},
   "outputs": [],
   "source": [
    "from fastapi import FastAPI, Depends, HTTPException\n",
    "from sqlalchemy.orm import Session\n",
    "\n",
    "from database.crud import get_book_by_isbn\n",
    "from database.schemas import BookSchema\n",
    "from typing import List\n",
    "\n",
    "# ✅ 특정 ISBN으로 도서 조회 API\n",
    "@app.get(\"/books/{isbn}\", response_model=BookSchema)\n",
    "def read_book(isbn: str, db: Session = Depends(get_db)):\n",
    "    book = get_book_by_isbn(db, isbn)\n",
    "    if book is None:\n",
    "        raise HTTPException(status_code=404, detail=\"해당 ISBN의 도서를 찾을 수 없습니다.\")\n",
    "    return book\n"
   ]
  },
  {
   "cell_type": "code",
   "execution_count": 2,
   "metadata": {},
   "outputs": [
    {
     "ename": "ModuleNotFoundError",
     "evalue": "No module named 'database.connection'; 'database' is not a package",
     "output_type": "error",
     "traceback": [
      "\u001b[0;31m---------------------------------------------------------------------------\u001b[0m",
      "\u001b[0;31mModuleNotFoundError\u001b[0m                       Traceback (most recent call last)",
      "Cell \u001b[0;32mIn[2], line 1\u001b[0m\n\u001b[0;32m----> 1\u001b[0m \u001b[38;5;28;01mfrom\u001b[39;00m \u001b[38;5;21;01mdatabase\u001b[39;00m\u001b[38;5;21;01m.\u001b[39;00m\u001b[38;5;21;01mconnection\u001b[39;00m \u001b[38;5;28;01mimport\u001b[39;00m get_db\n\u001b[1;32m      2\u001b[0m db \u001b[38;5;241m=\u001b[39m get_db()\n",
      "\u001b[0;31mModuleNotFoundError\u001b[0m: No module named 'database.connection'; 'database' is not a package"
     ]
    }
   ],
   "source": [
    "from database.connection import get_db\n",
    "db = get_db()"
   ]
  },
  {
   "cell_type": "code",
   "execution_count": null,
   "metadata": {},
   "outputs": [],
   "source": [
    "\n",
    "    db.query(BookTable).filter(BookTable.isbn == isbn).first()"
   ]
  }
 ],
 "metadata": {
  "kernelspec": {
   "display_name": "autoTrading_py39",
   "language": "python",
   "name": "python3"
  },
  "language_info": {
   "codemirror_mode": {
    "name": "ipython",
    "version": 3
   },
   "file_extension": ".py",
   "mimetype": "text/x-python",
   "name": "python",
   "nbconvert_exporter": "python",
   "pygments_lexer": "ipython3",
   "version": "3.9.20"
  }
 },
 "nbformat": 4,
 "nbformat_minor": 2
}
