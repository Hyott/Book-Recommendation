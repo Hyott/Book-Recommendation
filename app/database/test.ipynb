{
 "cells": [
  {
   "cell_type": "markdown",
   "metadata": {},
   "source": [
    "### "
   ]
  },
  {
   "cell_type": "code",
   "execution_count": 1,
   "metadata": {},
   "outputs": [],
   "source": [
    "import json\n",
    "from sqlalchemy.orm import sessionmaker\n",
    "from sqlalchemy.exc import IntegrityError\n",
    "from models import BookTable, TagTable, SentenceTable, BookTagTable, UserResponseTable\n",
    "from connection import database_engine\n",
    "\n",
    "# 데이터베이스 연결 설정\n",
    "host = \"localhost\"\n",
    "port = 5432\n",
    "user = \"postgres\"\n",
    "password = \"1234\"\n",
    "database_name = \"book_recommend\"\n",
    "\n",
    "engine = database_engine(host, port, user, password, database_name)\n",
    "Session = sessionmaker(bind=engine)\n",
    "session = Session()"
   ]
  },
  {
   "cell_type": "code",
   "execution_count": 3,
   "metadata": {},
   "outputs": [],
   "source": [
    "json_file_path = '../../data/scraping/all_book_data_ver_cleaned.json'\n",
    "with open(json_file_path, 'r', encoding='utf-8') as file:\n",
    "  data = json.load(file)\n",
    "  for book in data:      \n",
    "    book_entry = BookTable(\n",
    "                isbn=book[\"isbn13\"],\n",
    "                title=book[\"title\"],\n",
    "                publisher=book[\"publisher\"],\n",
    "                author=book[\"author\"],\n",
    "                image_url=book[\"img_url\"],\n",
    "                category='essay',\n",
    "                publication_date = book[\"publication_date\"]\n",
    "            )\n",
    "    try:\n",
    "      # 데이터 삽입\n",
    "      session.merge(book_entry)\n",
    "      session.commit()\n",
    "    except IntegrityError:\n",
    "      # 중복된 키가 발생한 경우 롤백 후 처리\n",
    "      session.rollback()\n",
    "      print(f\"중복된 ISBN: {book.isbn} - 삽입을 건너뜁니다.\")\n",
    "    except Exception as e:\n",
    "        # 기타 예외 발생 시 롤백 및 에러 메시지 출력\n",
    "        session.rollback()\n",
    "        print(f\"오류 발생: {e}\")"
   ]
  },
  {
   "cell_type": "code",
   "execution_count": 2,
   "metadata": {},
   "outputs": [
    {
     "name": "stdout",
     "output_type": "stream",
     "text": [
      "✅ PostgreSQL 연결 성공!\n"
     ]
    }
   ],
   "source": [
    "import psycopg2\n",
    "import os\n",
    "from dotenv import load_dotenv\n",
    "\n",
    "# ✅ .env 파일 로드\n",
    "load_dotenv()\n",
    "\n",
    "# ✅ 환경 변수 불러오기\n",
    "host = os.getenv(\"HOST\")\n",
    "port = os.getenv(\"PORT\")\n",
    "user = os.getenv(\"POSTGRES_USER\")\n",
    "password = os.getenv(\"POSTGRES_PASSWORD\")\n",
    "database_name = os.getenv(\"DATABASE_NAME\")\n",
    "\n",
    "try:\n",
    "    # ✅ 키워드 인자를 올바르게 전달해야 함\n",
    "    conn = psycopg2.connect(\n",
    "        host=host,\n",
    "        port=port,\n",
    "        user=user,\n",
    "        password=password,\n",
    "        dbname=database_name\n",
    "    )\n",
    "    print(\"✅ PostgreSQL 연결 성공!\")\n",
    "    conn.close()\n",
    "except Exception as e:\n",
    "    print(f\"❌ PostgreSQL 연결 실패: {e}\")"
   ]
  },
  {
   "cell_type": "code",
   "execution_count": 4,
   "metadata": {},
   "outputs": [
    {
     "name": "stdout",
     "output_type": "stream",
     "text": [
      "host.docker.internal\n",
      "5432\n",
      "sesac\n",
      "1234\n",
      "book_recommend\n"
     ]
    }
   ],
   "source": [
    "# ✅ 환경 변수 불러오기\n",
    "print(os.getenv(\"HOST\"))\n",
    "print(os.getenv(\"PORT\"))\n",
    "print(os.getenv(\"POSTGRES_USER\"))\n",
    "print(os.getenv(\"POSTGRES_PASSWORD\"))\n",
    "print(os.getenv(\"DATABASE_NAME\"))"
   ]
  },
  {
   "cell_type": "code",
   "execution_count": null,
   "metadata": {},
   "outputs": [],
   "source": []
  }
 ],
 "metadata": {
  "kernelspec": {
   "display_name": "book_recommend",
   "language": "python",
   "name": "python3"
  },
  "language_info": {
   "codemirror_mode": {
    "name": "ipython",
    "version": 3
   },
   "file_extension": ".py",
   "mimetype": "text/x-python",
   "name": "python",
   "nbconvert_exporter": "python",
   "pygments_lexer": "ipython3",
   "version": "3.12.4"
  }
 },
 "nbformat": 4,
 "nbformat_minor": 2
}
