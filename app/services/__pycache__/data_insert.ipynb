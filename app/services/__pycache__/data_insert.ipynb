{
 "cells": [
  {
   "cell_type": "code",
   "execution_count": 11,
   "metadata": {},
   "outputs": [
    {
     "name": "stdout",
     "output_type": "stream",
     "text": [
      "NULL 값이 포함된 항목: {}\n"
     ]
    }
   ],
   "source": [
    "json_file = r\"C:\\Users\\psh10\\Documents\\pythonEx\\project\\pythonProject\\book-recommendation\\data\\scraping\\llm_output[0_ 1486].json\"\n",
    "with open(json_file, 'r', encoding='utf-8') as file:\n",
    "            data = json.load(file)\n",
    "\n",
    "# NULL 값 찾기\n",
    "null_entries = {key: value for key, value in data.items() if value is None}\n",
    "print(f\"NULL 값이 포함된 항목: {null_entries}\")"
   ]
  },
  {
   "cell_type": "code",
   "execution_count": 25,
   "metadata": {},
   "outputs": [
    {
     "name": "stdout",
     "output_type": "stream",
     "text": [
      "NULL 값이 포함된 항목: {}\n"
     ]
    }
   ],
   "source": [
    "import re\n",
    "import psycopg2\n",
    "import json\n",
    "\n",
    "json_file = r\"C:\\Users\\psh10\\Documents\\pythonEx\\project\\pythonProject\\book-recommendation\\data\\scraping\\llm_output[0_ 1486].json\"\n",
    "with open(json_file, 'r', encoding='utf-8') as file:\n",
    "            data = json.load(file)\n",
    "\n",
    "# NULL 값 찾기\n",
    "null_entries = {key: value for key, value in data.items() if value is None}\n",
    "print(f\"NULL 값이 포함된 항목: {null_entries}\")\n",
    "\n",
    "# 데이터베이스 연결 설정\n",
    "conn = psycopg2.connect(\n",
    "    dbname=\"book_recommend\",\n",
    "    user=\"sesac\",\n",
    "    password=\"1234\",\n",
    "    host=\"localhost\",\n",
    "    port=\"5432\"\n",
    ")\n",
    "cursor = conn.cursor()\n",
    "\n",
    "# 새로운 테이블 생성 (isbn, message, hashtags 저장)\n",
    "cursor.execute(\"\"\"\n",
    "    CREATE TABLE IF NOT EXISTS new_books (\n",
    "        isbn VARCHAR(30) PRIMARY KEY,\n",
    "        message TEXT,\n",
    "        hashtags TEXT\n",
    "    );\n",
    "\"\"\")\n",
    "conn.commit()\n",
    "\n",
    "try:\n",
    "    # 데이터 삽입\n",
    "    for book in data.values():\n",
    "        if book is None:\n",
    "            continue  # NULL 값 무시\n",
    "        \n",
    "        isbn = str(book.get(\"isbn13\", \"\"))\n",
    "        message = book.get(\"message\", \"\")\n",
    "        hashtags = \" \".join([tag.strip() for tag in book.get(\"hashtags\", \"\").split() if tag.strip()])\n",
    "        \n",
    "        # new_books 테이블에 데이터 삽입\n",
    "        cursor.execute(\"INSERT INTO new_books (isbn, message, hashtags) VALUES (%s, %s, %s) ON CONFLICT (isbn) DO NOTHING\", (isbn, message, hashtags))\n",
    "    \n",
    "    # 변경 사항 저장\n",
    "    conn.commit()\n",
    "except Exception as e:\n",
    "    print(f\"오류 발생: {e}\")\n",
    "    conn.rollback()\n",
    "finally:\n",
    "    # 연결 종료\n",
    "    cursor.close()\n",
    "    conn.close()"
   ]
  },
  {
   "cell_type": "code",
   "execution_count": 14,
   "metadata": {},
   "outputs": [
    {
     "ename": "InterfaceError",
     "evalue": "connection already closed",
     "output_type": "error",
     "traceback": [
      "\u001b[1;31m---------------------------------------------------------------------------\u001b[0m",
      "\u001b[1;31mInterfaceError\u001b[0m                            Traceback (most recent call last)",
      "Cell \u001b[1;32mIn[14], line 1\u001b[0m\n\u001b[1;32m----> 1\u001b[0m \u001b[43mconn\u001b[49m\u001b[38;5;241;43m.\u001b[39;49m\u001b[43mrollback\u001b[49m\u001b[43m(\u001b[49m\u001b[43m)\u001b[49m\n",
      "\u001b[1;31mInterfaceError\u001b[0m: connection already closed"
     ]
    }
   ],
   "source": [
    "conn.rollback()"
   ]
  },
  {
   "cell_type": "code",
   "execution_count": null,
   "metadata": {},
   "outputs": [],
   "source": []
  }
 ],
 "metadata": {
  "kernelspec": {
   "display_name": "book_recommend",
   "language": "python",
   "name": "python3"
  },
  "language_info": {
   "codemirror_mode": {
    "name": "ipython",
    "version": 3
   },
   "file_extension": ".py",
   "mimetype": "text/x-python",
   "name": "python",
   "nbconvert_exporter": "python",
   "pygments_lexer": "ipython3",
   "version": "3.12.4"
  }
 },
 "nbformat": 4,
 "nbformat_minor": 2
}
