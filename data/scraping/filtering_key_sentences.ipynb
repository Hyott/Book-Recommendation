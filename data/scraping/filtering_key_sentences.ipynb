{
 "cells": [
  {
   "cell_type": "code",
   "execution_count": 24,
   "metadata": {},
   "outputs": [
    {
     "name": "stdout",
     "output_type": "stream",
     "text": [
      "핵심 문장 필터링 완료! 결과 저장됨:  all_book_data_ver3_filtered.json\n"
     ]
    }
   ],
   "source": [
    "import json\n",
    "import os\n",
    "import re\n",
    "\n",
    "# 📌 JSON 파일 경로\n",
    "json_file_path = \"all_book_data_ver3_cleaned.json\"\n",
    "output_json_path = \"all_book_data_ver3_filtered.json\"\n",
    "\n",
    "# JSON 파일 로드\n",
    "with open(json_file_path, \"r\", encoding=\"utf-8\") as f:\n",
    "    book_data = json.load(f)\n",
    "\n",
    "\n",
    "filtered_books = []\n",
    "for book in book_data:\n",
    "    if \"key_sentences\" in book and \"isbn13\" in book:\n",
    "        if isinstance(book[\"key_sentences\"], str):\n",
    "            # 1️⃣ '중에서' 이후의 내용 제거\n",
    "            book[\"key_sentences\"] = re.split(r'중에서', book[\"key_sentences\"], maxsplit=1)[0].strip() + '중에서' if '중에서' in book[\"key_sentences\"] else book[\"key_sentences\"]\n",
    "            # 2️⃣ '--- p.숫자' 등의 구분자를 기준으로 분리\n",
    "            book[\"key_sentences\"] = re.split(r'---', book[\"key_sentences\"], maxsplit=1)[0].strip()\n",
    "\n",
    "            filtered_books.append({\n",
    "                \"isbn\" : book[\"isbn13\"],\n",
    "                \"key_sentences\": book[\"key_sentences\"]\n",
    "            })\n",
    "\n",
    "            \n",
    "# Json 파일 저장\n",
    "with open(output_json_path, \"w\", encoding=\"utf-8\") as f:\n",
    "    json.dump(filtered_books, f, ensure_ascii=False, indent=4)\n",
    "\n",
    "print(\"핵심 문장 필터링 완료! 결과 저장됨: \", output_json_path)"
   ]
  },
  {
   "cell_type": "code",
   "execution_count": null,
   "metadata": {},
   "outputs": [],
   "source": []
  }
 ],
 "metadata": {
  "kernelspec": {
   "display_name": "book_recommend",
   "language": "python",
   "name": "python3"
  },
  "language_info": {
   "codemirror_mode": {
    "name": "ipython",
    "version": 3
   },
   "file_extension": ".py",
   "mimetype": "text/x-python",
   "name": "python",
   "nbconvert_exporter": "python",
   "pygments_lexer": "ipython3",
   "version": "3.12.4"
  }
 },
 "nbformat": 4,
 "nbformat_minor": 2
}
