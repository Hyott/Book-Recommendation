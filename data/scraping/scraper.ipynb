{
 "cells": [
  {
   "cell_type": "code",
   "execution_count": 3,
   "metadata": {},
   "outputs": [],
   "source": [
    "import requests\n",
    "from bs4 import BeautifulSoup\n",
    "import pandas as pd\n",
    "\n",
    "# yes24 > 한국 에세이 2015발표작 이후로 한정 > 24개씩 1209번 페이지까지 스크래이핑\n",
    "response = requests.get('https://www.yes24.com/Product/Category/Display/001001047001')\n",
    "\n",
    "html = response.text\n",
    "soup = BeautifulSoup(html, 'html.parser')\n"
   ]
  },
  {
   "cell_type": "code",
   "execution_count": null,
   "metadata": {},
   "outputs": [],
   "source": [
    "from selenium.webdriver.common.by import By\n",
    "from selenium.webdriver.common.keys import Keys\n",
    "from selenium import webdriver\n",
    "import json\n",
    "import time\n",
    "import re\n",
    "\n",
    "\n",
    "driver = webdriver.Chrome()\n",
    "driver.get('https://www.yes24.com/Product/Category/Display/001001047001')\n",
    "time.sleep(1)\n",
    "\n",
    "main_scroll_cnts = 5\n",
    "sub_scroll_cnts = 3\n",
    "\n",
    "\n",
    "#1 스크롤을 내리고 - n번째 페이지 방문\n",
    "    #2 그 페이지 각각의 도서를 순회하며\n",
    "        #3 책소개/ 책속으로 text를 수집-저장\n"
   ]
  }
 ],
 "metadata": {
  "kernelspec": {
   "display_name": "sesac",
   "language": "python",
   "name": "python3"
  },
  "language_info": {
   "codemirror_mode": {
    "name": "ipython",
    "version": 3
   },
   "file_extension": ".py",
   "mimetype": "text/x-python",
   "name": "python",
   "nbconvert_exporter": "python",
   "pygments_lexer": "ipython3",
   "version": "3.12.3"
  }
 },
 "nbformat": 4,
 "nbformat_minor": 2
}
