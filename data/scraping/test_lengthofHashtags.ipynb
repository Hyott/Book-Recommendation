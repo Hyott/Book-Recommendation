{
 "cells": [
  {
   "cell_type": "code",
   "execution_count": 10,
   "metadata": {},
   "outputs": [
    {
     "name": "stdout",
     "output_type": "stream",
     "text": [
      "#힘든일도아름다움으로 #툭툭털고일어나기 #상처받아도괜찮아 #우여곡절의여정 #삶의행복찾기 #희망의메시지 #청춘에게보내는위로 #성공의비결은포기하지않기 #전성기를향한도전 #지금은침체기인가전성기인가\n",
      "#다이어트의노예에서자유롭게 #진짜삶을찾다 #행복을잃지말자 #식단의강박에서벗어나기 #자기자신을사랑하자 #다이어트문화비판 #진정한자아찾기 #소중한시간을가치있게 #마음의자유를찾다 #몸과마음의조화\n",
      "#용기있는한걸음 #행운을만나는법 #타인의시선에서자유로워지기 #인생은여행이다 #불안함속의안도감 #우주가널응원해 #현재의행복을누리자 #기대하지않는행복 #자신을사랑하는법 #모두가함께하는여정\n",
      "#교사와아이의사랑 #행복한교실만들기 #사랑으로소통하기 #아이의마음을헤아리기 #따뜻한교사되기 #신뢰와공감의중요성 #아이의성장과변화 #작은사랑의힘 #교사의열정과노력 #사랑이채워지는세상\n",
      "#행운은내가만드는것 #자기사랑의시간 #슬픔을안고살기 #비난은한사람의생각일뿐 #변화는영원하다 #혼자가아닌우린함께 #마음의치유 #꿈을향한노력 #일상속의행복찾기 #새로운시작의기회\n",
      "#인생의주제곡 #행운은예측불가 #자기페이스로살기 #성공과실패의기록 #도전은보너스 #모든것은연결되어있다 #버티는자가강하다 #추억의배경음악 #자신의삶을사유하라 #주인공은나다\n",
      "#아름다움은지키는것이다 #도시소설가의여정 #마을과함께하는삶 #발아의지혜 #자연과의조화 #공동체의중요성 #새로운시작 #농업과문학의만남 #인간과자연의연결 #소멸과회생의이야기\n",
      "#박막례의인생역전 #할머니의행복찾기 #세대를잇는사랑 #유튜브로열린세상 #호기심이주는삶 #나이와경험의재발견 #여성의삶과자아 #소중한첫경험 #즐거운도전정신 #인생은끝없는여행\n",
      "#일과자아의밀당 #여성작가의고백 #글쓰기로찾은균형 #사회부기자이야기 #성장과방황의여정 #쓰는사람의러브스토리 #직업의의미 #열과성의자산 #슬픔과기쁨의공존 #20년의직장생활\n",
      "#생명과학의미래 #쓸모없는것의가치 #작은생명의경이로움 #예쁜꼬마선충 #유전자진화의비밀 #과학자의일상 #연구의희망과갈등 #생명과학의여정 #과학으로연결된세상 #사유하는과학\n"
     ]
    }
   ],
   "source": [
    "import json\n",
    "\n",
    "# JSON 파일 로드\n",
    "with open('llm_output_openai.json', 'r') as file:\n",
    "    data = json.load(file)\n",
    "\n",
    "# 모든 hashtags 문자열 수집\n",
    "hashtags_list = []\n",
    "for key, value in data.items():\n",
    "    if isinstance(value, dict) and 'hashtags' in value:\n",
    "        hashtags_list.append(value['hashtags'])\n",
    "\n",
    "# 해시태그 문자열을 길이순으로 정렬해 상위 10개 추출\n",
    "longest_hashtags = sorted(hashtags_list, key=len, reverse=True)[:10]\n",
    "\n",
    "# 결과 출력\n",
    "for hashtag in longest_hashtags:\n",
    "    print(hashtag)\n"
   ]
  },
  {
   "cell_type": "code",
   "execution_count": 12,
   "metadata": {},
   "outputs": [
    {
     "name": "stdout",
     "output_type": "stream",
     "text": [
      "title: 승리의 함성을 다 같이 외쳐라 (LG트윈스 2023 통합우승 별책부록 에디션), ISBN: 9791192742175\n",
      "title: 모든 사람에게 좋은 사람일 필요는 없어 (80만 부 기념 특별개정판), ISBN: 9791190764377\n",
      "title: 한 개의 기쁨이 천 개의 슬픔을 이긴다 : 조우성 변호사 에세이 1, ISBN: 9791165345105\n",
      "title: 한 개의 기쁨이 천 개의 슬픔을 이긴다 : 조우성 변호사 에세이 2, ISBN: 9791165345112\n",
      "title: 잘했고 잘하고 있고 잘 될 것이다 (50만 부 기념 전면 개정판), ISBN: 9791162143605\n",
      "title: 놀 수 있을 때 놀고 볼 수 있을 때 보고 갈 수 있을 때 가고, ISBN: 9791191401721\n",
      "title: 우리는 무한한 우주를 건너 서로를 만났고 이 삶을 함께하고 있어, ISBN: 9791141137526\n",
      "title: 당신도 마음이 죽은 채 긴 밤을 걷고 있나요 (리커버 에디션), ISBN: 9791198869685\n",
      "title: 만남은 지겹고 이별은 지쳤다 (10만 부 기념 리커버 에디션), ISBN: 9791197646706\n",
      "title: 누구에게나 영원히 머무르고 싶은 순간이 있다 (시즌 에디션), ISBN: 9791198075536\n"
     ]
    }
   ],
   "source": [
    "import json\n",
    "\n",
    "# JSON 파일 로드\n",
    "with open('filtered_book_unique.json', 'r') as file:\n",
    "    data = json.load(file)\n",
    "\n",
    "# 리스트 안의 딕셔너리에서 author와 isbn 수집\n",
    "authors = []\n",
    "isbns = []\n",
    "for item in data:\n",
    "    if isinstance(item, dict) and 'title' in item and 'isbn' in item:\n",
    "        authors.append(item['title'])\n",
    "        isbns.append(item['isbn'])\n",
    "\n",
    "# author 문자열을 길이순으로 정렬해 상위 10개 추출\n",
    "author_isbn_pairs = sorted(zip(authors, isbns), key=lambda x: len(x[0]), reverse=True)[:10]\n",
    "\n",
    "# 결과 출력\n",
    "for author, isbn in author_isbn_pairs:\n",
    "    print(f\"title: {author}, ISBN: {isbn}\")"
   ]
  },
  {
   "cell_type": "code",
   "execution_count": 15,
   "metadata": {},
   "outputs": [],
   "source": [
    "import json\n",
    "\n",
    "# JSON 파일 로드\n",
    "with open('llm_output_openai.json', 'r') as file:\n",
    "    hashtag_data = json.load(file)\n",
    "\n",
    "with open('filtered_book_unique.json', 'r') as file:\n",
    "    book_data = json.load(file)\n",
    "\n",
    "# 해시태그 수집 (isbn 기준)\n",
    "hashtags = {}\n",
    "for item in hashtag_data.values():\n",
    "    if isinstance(item, dict) and 'isbn' in item and 'hashtags' in item:\n",
    "        hashtags[item['isbn']] = item['hashtags']\n",
    "\n",
    "# 책 제목 수집 (isbn 기준)\n",
    "books = {}\n",
    "for item in book_data:\n",
    "    if isinstance(item, dict) and 'isbn' in item and 'title' in item:\n",
    "        books[item['isbn']] = item['title']\n",
    "\n",
    "# 해시태그와 책 제목 결합 후 길이 계산\n",
    "combined_list = []\n",
    "for isbn, hashtag in hashtags.items():\n",
    "    if isbn in books:\n",
    "        combined_length = len(hashtag) + len(books[isbn])\n",
    "        combined_list.append((isbn, books[isbn], hashtag, combined_length))\n",
    "\n",
    "# 상위 10개 추출 (길이순)\n",
    "top_10 = sorted(combined_list, key=lambda x: x[3], reverse=True)[:10]\n",
    "\n",
    "# 결과 출력\n",
    "for isbn, title, hashtag, length in top_10:\n",
    "    print(f\"ISBN: {isbn}, Title: {title}, Hashtags: {hashtag}, Combined Length: {length}\")"
   ]
  },
  {
   "cell_type": "code",
   "execution_count": 19,
   "metadata": {},
   "outputs": [
    {
     "name": "stdout",
     "output_type": "stream",
     "text": [
      "Hashtags keys: [9791169851053, 9788930041683, 9791193383193, 9788954693462, 9791189352745]\n",
      "Books keys: ['9791169851053', '9788930041683', '9791193383193', '9788954693462', '9791189352745']\n"
     ]
    }
   ],
   "source": [
    "print(f\"Hashtags keys: {list(hashtags.keys())[:5]}\")\n",
    "print(f\"Books keys: {list(books.keys())[:5]}\")"
   ]
  },
  {
   "cell_type": "code",
   "execution_count": 22,
   "metadata": {},
   "outputs": [
    {
     "name": "stdout",
     "output_type": "stream",
     "text": [
      "Hashtags keys: ['9791169851053', '9788930041683', '9791193383193', '9788954693462', '9791189352745']\n",
      "Books keys: ['9791169851053', '9788930041683', '9791193383193', '9788954693462', '9791189352745']\n",
      "Combined list length: 1781\n",
      "ISBN: 9791169107365, Title: 넘어지면 어때, 툭툭 털고 일어나면 되지, Hashtags: #힘든일도아름다움으로 #툭툭털고일어나기 #상처받아도괜찮아 #우여곡절의여정 #삶의행복찾기 #희망의메시지 #청춘에게보내는위로 #성공의비결은포기하지않기 #전성기를향한도전 #지금은침체기인가전성기인가, Combined Length: 128\n",
      "ISBN: 9791130670072, Title: 우주의 작은 별 하나까지 널 도와줄 거야, Hashtags: #용기있는한걸음 #행운을만나는법 #타인의시선에서자유로워지기 #인생은여행이다 #불안함속의안도감 #우주가널응원해 #현재의행복을누리자 #기대하지않는행복 #자신을사랑하는법 #모두가함께하는여정, Combined Length: 124\n",
      "ISBN: 9791162144503, Title: 살을 빼자고 행복을 뺄 수는 없잖아, Hashtags: #다이어트의노예에서자유롭게 #진짜삶을찾다 #행복을잃지말자 #식단의강박에서벗어나기 #자기자신을사랑하자 #다이어트문화비판 #진정한자아찾기 #소중한시간을가치있게 #마음의자유를찾다 #몸과마음의조화, Combined Length: 124\n",
      "ISBN: 9791169105705, Title: 선생님이 좋아서, 선생님이 되었습니다, Hashtags: #교사와아이의사랑 #행복한교실만들기 #사랑으로소통하기 #아이의마음을헤아리기 #따뜻한교사되기 #신뢰와공감의중요성 #아이의성장과변화 #작은사랑의힘 #교사의열정과노력 #사랑이채워지는세상, Combined Length: 120\n",
      "ISBN: 9791191401721, Title: 놀 수 있을 때 놀고 볼 수 있을 때 보고 갈 수 있을 때 가고, Hashtags: #홀로행하다 #젊음의열정 #후회없는삶 #즉흥적인사랑 #고독의미학 #나의전성시대 #행동하는삶 #세상은기다리지않는다 #단순한표정 #자신의이름을사랑하자, Combined Length: 116\n",
      "ISBN: 9788968332159, Title: 진짜 모습을 보이면 더는 사랑받지 못할까 봐 두려운 나에게, Hashtags: #사랑의진정성 #자존감의중요성 #내가가장사랑해야할사람 #연극처럼사랑하지마 #진짜자신찾기 #마음의안정 #사랑과이별 #자신을사랑하기 #위로의글 #진정한행복, Combined Length: 116\n",
      "ISBN: 9791162143605, Title: 잘했고 잘하고 있고 잘 될 것이다 (50만 부 기념 전면 개정판), Hashtags: #잘했고잘하고있고잘될것이다 #위로의메시지 #생각의여유 #자기애 #사랑의연습 #관계의성숙함 #성장의아픔 #내일을향한응원 #당신의선택 #잔잔한울림, Combined Length: 115\n",
      "ISBN: 9791198075536, Title: 누구에게나 영원히 머무르고 싶은 순간이 있다 (시즌 에디션), Hashtags: #위로의말들 #소리없는공감 #마음의안부 #진심의힘 #작은마음의소중함 #평범한삶의아름다움 #고요한순간들 #자존감의회복 #인간관계의따뜻함 #삶의여운, Combined Length: 113\n",
      "ISBN: 9791192742175, Title: 승리의 함성을 다 같이 외쳐라 (LG트윈스 2023 통합우승 별책부록 에디션), Hashtags: #LG트윈스 #승리의함성 #29년만의우승 #야구팬 #통합우승 #스포츠의감동 #기억의조각 #희망의이야기 #열정의결실 #팀워크의힘, Combined Length: 113\n",
      "ISBN: 9791196797720, Title: 이미 어쩔 수 없는 힘듦이 내게 찾아왔다면, Hashtags: #힘듦을이겨내다 #자책에서벗어나기 #마음의여유찾기 #행복한삶선택하기 #자신을사랑하라 #예민함의힘 #적당히사는법 #어울리는사람의중요성 #따뜻한차한잔 #희망의메시지, Combined Length: 112\n"
     ]
    }
   ],
   "source": [
    "import json\n",
    "\n",
    "# JSON 파일 로드\n",
    "with open('llm_output_openai.json', 'r') as file:\n",
    "    hashtag_data = json.load(file)\n",
    "\n",
    "with open('filtered_book_unique.json', 'r') as file:\n",
    "    book_data = json.load(file)\n",
    "\n",
    "# 해시태그 수집 (isbn 기준)\n",
    "hashtags = {}\n",
    "for item in hashtag_data.values():\n",
    "    if isinstance(item, dict) and 'isbn' in item and 'hashtags' in item:\n",
    "        isbn = str(item['isbn']).strip()\n",
    "        hashtags[isbn] = item['hashtags']\n",
    "\n",
    "# 책 제목 수집 (isbn 기준)\n",
    "books = {}\n",
    "for item in book_data:\n",
    "    if isinstance(item, dict) and 'isbn' in item and 'title' in item:\n",
    "        isbn = str(item['isbn']).strip()\n",
    "        books[isbn] = item['title']\n",
    "\n",
    "# isbn 키 확인\n",
    "print(f\"Hashtags keys: {list(hashtags.keys())[:5]}\")\n",
    "print(f\"Books keys: {list(books.keys())[:5]}\")\n",
    "\n",
    "# 해시태그와 책 제목 결합 후 길이 계산\n",
    "combined_list = []\n",
    "for isbn, hashtag in hashtags.items():\n",
    "    if isbn in books:\n",
    "        combined_length = len(hashtag) + len(books[isbn])\n",
    "        combined_list.append((isbn, books[isbn], hashtag, combined_length))\n",
    "\n",
    "# combined_list 길이 확인\n",
    "print(f\"Combined list length: {len(combined_list)}\")\n",
    "\n",
    "# 상위 10개 추출 (길이순)\n",
    "top_10 = sorted(combined_list, key=lambda x: x[3], reverse=True)[:10]\n",
    "\n",
    "# 결과 출력\n",
    "for isbn, title, hashtag, length in top_10:\n",
    "    print(f\"ISBN: {isbn}, Title: {title}, Hashtags: {hashtag}, Combined Length: {length}\")"
   ]
  }
 ],
 "metadata": {
  "kernelspec": {
   "display_name": "mecab_env",
   "language": "python",
   "name": "python3"
  },
  "language_info": {
   "codemirror_mode": {
    "name": "ipython",
    "version": 3
   },
   "file_extension": ".py",
   "mimetype": "text/x-python",
   "name": "python",
   "nbconvert_exporter": "python",
   "pygments_lexer": "ipython3",
   "version": "3.9.21"
  }
 },
 "nbformat": 4,
 "nbformat_minor": 2
}
