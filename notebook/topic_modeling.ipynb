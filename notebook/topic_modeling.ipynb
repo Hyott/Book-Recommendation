{
 "cells": [
  {
   "cell_type": "markdown",
   "metadata": {},
   "source": [
    "목적 : 토픽모델링을 활용해서 유저가 선택할 태그와 실제 사용할 태그 선택하기"
   ]
  },
  {
   "cell_type": "code",
   "execution_count": null,
   "metadata": {},
   "outputs": [],
   "source": [
    "import matplotlib as mpl\n",
    "import matplotlib.pyplot as plt\n",
    "import matplotlib.font_manager as fm\n",
    "\n",
    "plt.rcParams['font.family'] = \"AppleGothic\""
   ]
  },
  {
   "cell_type": "code",
   "execution_count": 2,
   "metadata": {},
   "outputs": [],
   "source": [
    "import json\n",
    "with open('/Users/hyo-cheolahn/Documents/Projects/Book-Recommendation/data/scraping/all_book_data.json', \"r\") as file:\n",
    "    data = json.load(file)"
   ]
  },
  {
   "cell_type": "code",
   "execution_count": 6,
   "metadata": {},
   "outputs": [],
   "source": [
    "from kiwipiepy import Kiwi\n",
    "from kiwipiepy.utils import Stopwords\n",
    "kiwi = Kiwi(model_type='sbg', typos='basic')\n",
    "stopwords = Stopwords()"
   ]
  },
  {
   "cell_type": "code",
   "execution_count": 7,
   "metadata": {},
   "outputs": [
    {
     "data": {
      "text/html": [
       "<div>\n",
       "<style scoped>\n",
       "    .dataframe tbody tr th:only-of-type {\n",
       "        vertical-align: middle;\n",
       "    }\n",
       "\n",
       "    .dataframe tbody tr th {\n",
       "        vertical-align: top;\n",
       "    }\n",
       "\n",
       "    .dataframe thead th {\n",
       "        text-align: right;\n",
       "    }\n",
       "</style>\n",
       "<table border=\"1\" class=\"dataframe\">\n",
       "  <thead>\n",
       "    <tr style=\"text-align: right;\">\n",
       "      <th></th>\n",
       "      <th>texts</th>\n",
       "      <th>texts_tokenized</th>\n",
       "    </tr>\n",
       "  </thead>\n",
       "  <tbody>\n",
       "    <tr>\n",
       "      <th>0</th>\n",
       "      <td>행복을 찾는 방법이 아니라불행에 대한 수비력을 길러주는58가지 인생 이야기《1cm ...</td>\n",
       "      <td>행복 찾 방법 불행 수비력 기르 58 가지 인생 이야기 1 cm 다이빙 홈 in 홈...</td>\n",
       "    </tr>\n",
       "    <tr>\n",
       "      <th>1</th>\n",
       "      <td>좋은 감각을 지니려면,디자인을 잘하려면,더 나은 브랜드를 만들려면 어떻게 해야 하는...</td>\n",
       "      <td>좋 감각 지니 려면 디자인 잘 려면 낫 브랜드 만들 려면 어떻 는가 섬세 감각 타 ...</td>\n",
       "    </tr>\n",
       "    <tr>\n",
       "      <th>2</th>\n",
       "      <td>“코난밖에 모르던 내가 일본어로 먹고살아요‘그저 좋아하다가 잘하게 된 센님의 일본어...</td>\n",
       "      <td>코난 밖에 모르 일본어 먹 살 어요 그저 좋 다가 잘 되 샌님 일본어 덕질 기 26...</td>\n",
       "    </tr>\n",
       "    <tr>\n",
       "      <th>3</th>\n",
       "      <td>당신의 행복을 찾아 주고 싶다이렇게 행복해도 되나 싶을 정도로이런 하루가, 이런 인...</td>\n",
       "      <td>당신 행복 찾 싶 이렇 행복 어도 나 싶 정도 이런 하루 이런 인생 좋 정도 10 ...</td>\n",
       "    </tr>\n",
       "    <tr>\n",
       "      <th>4</th>\n",
       "      <td>디 에센셜 한강한강 작가의 장편소설, 단편소설, 시, 산문을 한 권으로 만난다!작가...</td>\n",
       "      <td>디 에센셜 한강 한강 작가 장편 소설 단편 소설 시 산문 권 만나 작가 핵심 작품 ...</td>\n",
       "    </tr>\n",
       "  </tbody>\n",
       "</table>\n",
       "</div>"
      ],
      "text/plain": [
       "                                               texts  \\\n",
       "0  행복을 찾는 방법이 아니라불행에 대한 수비력을 길러주는58가지 인생 이야기《1cm ...   \n",
       "1  좋은 감각을 지니려면,디자인을 잘하려면,더 나은 브랜드를 만들려면 어떻게 해야 하는...   \n",
       "2  “코난밖에 모르던 내가 일본어로 먹고살아요‘그저 좋아하다가 잘하게 된 센님의 일본어...   \n",
       "3  당신의 행복을 찾아 주고 싶다이렇게 행복해도 되나 싶을 정도로이런 하루가, 이런 인...   \n",
       "4  디 에센셜 한강한강 작가의 장편소설, 단편소설, 시, 산문을 한 권으로 만난다!작가...   \n",
       "\n",
       "                                     texts_tokenized  \n",
       "0  행복 찾 방법 불행 수비력 기르 58 가지 인생 이야기 1 cm 다이빙 홈 in 홈...  \n",
       "1  좋 감각 지니 려면 디자인 잘 려면 낫 브랜드 만들 려면 어떻 는가 섬세 감각 타 ...  \n",
       "2  코난 밖에 모르 일본어 먹 살 어요 그저 좋 다가 잘 되 샌님 일본어 덕질 기 26...  \n",
       "3  당신 행복 찾 싶 이렇 행복 어도 나 싶 정도 이런 하루 이런 인생 좋 정도 10 ...  \n",
       "4  디 에센셜 한강 한강 작가 장편 소설 단편 소설 시 산문 권 만나 작가 핵심 작품 ...  "
      ]
     },
     "execution_count": 7,
     "metadata": {},
     "output_type": "execute_result"
    }
   ],
   "source": [
    "import pandas as pd\n",
    "\n",
    "texts = []\n",
    "texts_tokenized = []\n",
    "for el in data:\n",
    "    t1 = [x.split(':')[-1].strip() for x in el['description'].split('\\n')] # 여러개의 라인으로 된 데이터 정리\n",
    "    t2 = [' '.join([r.form for r in kiwi.tokenize(s, stopwords=stopwords)]) for s in t1] # 데이터 토큰화, 불용어 제거\n",
    "    texts.append(' '.join(t1))\n",
    "    texts_tokenized.append(' '.join(t2))\n",
    "df = pd.DataFrame()\n",
    "df['texts'] = texts\n",
    "df['texts_tokenized'] = texts_tokenized\n",
    "df.head()\n"
   ]
  },
  {
   "cell_type": "code",
   "execution_count": 13,
   "metadata": {},
   "outputs": [
    {
     "data": {
      "text/html": [
       "<div>\n",
       "<style scoped>\n",
       "    .dataframe tbody tr th:only-of-type {\n",
       "        vertical-align: middle;\n",
       "    }\n",
       "\n",
       "    .dataframe tbody tr th {\n",
       "        vertical-align: top;\n",
       "    }\n",
       "\n",
       "    .dataframe thead th {\n",
       "        text-align: right;\n",
       "    }\n",
       "</style>\n",
       "<table border=\"1\" class=\"dataframe\">\n",
       "  <thead>\n",
       "    <tr style=\"text-align: right;\">\n",
       "      <th></th>\n",
       "      <th>texts</th>\n",
       "      <th>texts_tokenized</th>\n",
       "      <th>texts_ks</th>\n",
       "      <th>texts_ks_tokenized</th>\n",
       "    </tr>\n",
       "  </thead>\n",
       "  <tbody>\n",
       "    <tr>\n",
       "      <th>0</th>\n",
       "      <td>행복을 찾는 방법이 아니라불행에 대한 수비력을 길러주는58가지 인생 이야기《1cm ...</td>\n",
       "      <td>행복 찾 방법 불행 수비력 기르 58 가지 인생 이야기 1 cm 다이빙 홈 in 홈...</td>\n",
       "      <td>그냥 지금처럼 살아라. 그렇게 살되 어떤 감정조차 책임질 수 없을 만큼 힘든 날, ...</td>\n",
       "      <td>그냥 지금 처럼 살 어라 그렇게 살 되 어떤 감정 조차 책임지 만큼 힘들 날 마음속...</td>\n",
       "    </tr>\n",
       "    <tr>\n",
       "      <th>1</th>\n",
       "      <td>좋은 감각을 지니려면,디자인을 잘하려면,더 나은 브랜드를 만들려면 어떻게 해야 하는...</td>\n",
       "      <td>좋 감각 지니 려면 디자인 잘 려면 낫 브랜드 만들 려면 어떻 는가 섬세 감각 타 ...</td>\n",
       "      <td>여러 회사와 각종 분야, 다양한 프로젝트를 넘나들며 일을 하면서도, 늘 저의 중심을...</td>\n",
       "      <td>여러 회사 각종 분야 다양 프로젝트 넘나들 늘 저 중심 잡 스스로 책임지 결정 마음...</td>\n",
       "    </tr>\n",
       "    <tr>\n",
       "      <th>2</th>\n",
       "      <td>“코난밖에 모르던 내가 일본어로 먹고살아요‘그저 좋아하다가 잘하게 된 센님의 일본어...</td>\n",
       "      <td>코난 밖에 모르 일본어 먹 살 어요 그저 좋 다가 잘 되 샌님 일본어 덕질 기 26...</td>\n",
       "      <td>하지만 오로지 애니를 보기만 했을 뿐 다른 노력은 전혀 하지 않았는데 이만큼이나 들...</td>\n",
       "      <td>하지만 오로지 애니 뿐 다른 노력 전혀 는데 만큼 이나 들리 다니 공짜 외국어 영역...</td>\n",
       "    </tr>\n",
       "    <tr>\n",
       "      <th>3</th>\n",
       "      <td>당신의 행복을 찾아 주고 싶다이렇게 행복해도 되나 싶을 정도로이런 하루가, 이런 인...</td>\n",
       "      <td>당신 행복 찾 싶 이렇 행복 어도 나 싶 정도 이런 하루 이런 인생 좋 정도 10 ...</td>\n",
       "      <td>오늘도 괜찮다. 덜 걱정해도 될 일이고, 그만 불안해도 되는 날이다. 다 지나간 일...</td>\n",
       "      <td>오늘 괜찮 덜 걱정 어도 그만 불안 어도 날 다 지나가 지나가 날 시간 답 살 내 ...</td>\n",
       "    </tr>\n",
       "    <tr>\n",
       "      <th>4</th>\n",
       "      <td>디 에센셜 한강한강 작가의 장편소설, 단편소설, 시, 산문을 한 권으로 만난다!작가...</td>\n",
       "      <td>디 에센셜 한강 한강 작가 장편 소설 단편 소설 시 산문 권 만나 작가 핵심 작품 ...</td>\n",
       "      <td>그때에는 그녀에게 말言이 있었으므로, 감정들은 더 분명하고 강했을 것이다.그러나 지...</td>\n",
       "      <td>그때 그녀 言 으므로 감정 분명 강하 그러나 지금 그녀 몸 속 단어 문장 마치 혼령...</td>\n",
       "    </tr>\n",
       "  </tbody>\n",
       "</table>\n",
       "</div>"
      ],
      "text/plain": [
       "                                               texts  \\\n",
       "0  행복을 찾는 방법이 아니라불행에 대한 수비력을 길러주는58가지 인생 이야기《1cm ...   \n",
       "1  좋은 감각을 지니려면,디자인을 잘하려면,더 나은 브랜드를 만들려면 어떻게 해야 하는...   \n",
       "2  “코난밖에 모르던 내가 일본어로 먹고살아요‘그저 좋아하다가 잘하게 된 센님의 일본어...   \n",
       "3  당신의 행복을 찾아 주고 싶다이렇게 행복해도 되나 싶을 정도로이런 하루가, 이런 인...   \n",
       "4  디 에센셜 한강한강 작가의 장편소설, 단편소설, 시, 산문을 한 권으로 만난다!작가...   \n",
       "\n",
       "                                     texts_tokenized  \\\n",
       "0  행복 찾 방법 불행 수비력 기르 58 가지 인생 이야기 1 cm 다이빙 홈 in 홈...   \n",
       "1  좋 감각 지니 려면 디자인 잘 려면 낫 브랜드 만들 려면 어떻 는가 섬세 감각 타 ...   \n",
       "2  코난 밖에 모르 일본어 먹 살 어요 그저 좋 다가 잘 되 샌님 일본어 덕질 기 26...   \n",
       "3  당신 행복 찾 싶 이렇 행복 어도 나 싶 정도 이런 하루 이런 인생 좋 정도 10 ...   \n",
       "4  디 에센셜 한강 한강 작가 장편 소설 단편 소설 시 산문 권 만나 작가 핵심 작품 ...   \n",
       "\n",
       "                                            texts_ks  \\\n",
       "0  그냥 지금처럼 살아라. 그렇게 살되 어떤 감정조차 책임질 수 없을 만큼 힘든 날, ...   \n",
       "1  여러 회사와 각종 분야, 다양한 프로젝트를 넘나들며 일을 하면서도, 늘 저의 중심을...   \n",
       "2  하지만 오로지 애니를 보기만 했을 뿐 다른 노력은 전혀 하지 않았는데 이만큼이나 들...   \n",
       "3  오늘도 괜찮다. 덜 걱정해도 될 일이고, 그만 불안해도 되는 날이다. 다 지나간 일...   \n",
       "4  그때에는 그녀에게 말言이 있었으므로, 감정들은 더 분명하고 강했을 것이다.그러나 지...   \n",
       "\n",
       "                                  texts_ks_tokenized  \n",
       "0  그냥 지금 처럼 살 어라 그렇게 살 되 어떤 감정 조차 책임지 만큼 힘들 날 마음속...  \n",
       "1  여러 회사 각종 분야 다양 프로젝트 넘나들 늘 저 중심 잡 스스로 책임지 결정 마음...  \n",
       "2  하지만 오로지 애니 뿐 다른 노력 전혀 는데 만큼 이나 들리 다니 공짜 외국어 영역...  \n",
       "3  오늘 괜찮 덜 걱정 어도 그만 불안 어도 날 다 지나가 지나가 날 시간 답 살 내 ...  \n",
       "4  그때 그녀 言 으므로 감정 분명 강하 그러나 지금 그녀 몸 속 단어 문장 마치 혼령...  "
      ]
     },
     "execution_count": 13,
     "metadata": {},
     "output_type": "execute_result"
    }
   ],
   "source": [
    "texts = []\n",
    "texts_tokenized = []\n",
    "for el in data:\n",
    "    t1 = [x.split(':')[-1].strip() for x in el['key_sentences'].split('\\n')] # 여러개의 라인으로 된 데이터 정리\n",
    "    t2 = [' '.join([r.form for r in kiwi.tokenize(s, stopwords=stopwords)]) for s in t1] # 데이터 토큰화, 불용어 제거\n",
    "    texts.append(' '.join(t1))\n",
    "    texts_tokenized.append(' '.join(t2))\n",
    "df['texts_ks'] = texts\n",
    "df['texts_ks_tokenized'] = texts_tokenized\n",
    "df.head()"
   ]
  },
  {
   "cell_type": "code",
   "execution_count": 25,
   "metadata": {},
   "outputs": [
    {
     "data": {
      "text/plain": [
       "0    행복 찾 방법 불행 수비력 기르 58 가지 인생 이야기 1 cm 다이빙 홈 in 홈...\n",
       "1    좋 감각 지니 려면 디자인 잘 려면 낫 브랜드 만들 려면 어떻 는가 섬세 감각 타 ...\n",
       "2    코난 밖에 모르 일본어 먹 살 어요 그저 좋 다가 잘 되 샌님 일본어 덕질 기 26...\n",
       "3    당신 행복 찾 싶 이렇 행복 어도 나 싶 정도 이런 하루 이런 인생 좋 정도 10 ...\n",
       "4    디 에센셜 한강 한강 작가 장편 소설 단편 소설 시 산문 권 만나 작가 핵심 작품 ...\n",
       "Name: texts_tokenized, dtype: object"
      ]
     },
     "execution_count": 25,
     "metadata": {},
     "output_type": "execute_result"
    }
   ],
   "source": [
    "\n",
    "df_combined = df['texts_tokenized'].str.cat(df['texts_ks_tokenized'], sep=' | ')\n",
    "df_combined.head()"
   ]
  },
  {
   "cell_type": "code",
   "execution_count": 26,
   "metadata": {},
   "outputs": [],
   "source": [
    "import gensim\n",
    "from gensim import corpora, models\n",
    "\n",
    "docs=[ d.split() for d in df_combined.to_list()]\n",
    "dictionary = corpora.Dictionary(docs)\n",
    "dictionary.filter_extremes(no_below=10,  ## filter_extremes를 통해 outlier를 제거할 수 있음\n",
    "              no_above=0.5, \n",
    "              keep_n=10000)  # 빈도가 높은 토큰으로 sort한 뒤 빈도가 높은 순으로 자름\n",
    "dictionary.compactify()\n",
    "dictionary.save('./corpus.dict') \n",
    "corpus = [dictionary.doc2bow(doc) for doc in docs]\n"
   ]
  },
  {
   "cell_type": "code",
   "execution_count": 27,
   "metadata": {},
   "outputs": [],
   "source": [
    "# perplexity, coherence 계산\n",
    "def lda_model_values(num_topics, corpus, dictionary, texts):\n",
    "    x = [] # x axis(topics)\n",
    "    perplexity_values = [] # perplexity values listed by num_topics\n",
    "    coherence_values = []   # coherence valeus listed by num_topics\n",
    "    model_list = [] \n",
    "\n",
    "    for topic in range(num_topics):\n",
    "        print(\"numbers of topics：\", topic+1)\n",
    "        lda_model = models.LdaModel(corpus=corpus, num_topics=topic+1, id2word=dictionary,\n",
    "                       chunksize=2000, passes=20, iterations=200)  #chunksize: 얼마나 많은 문서가 훈련 시에 사용되는지? passes: 학습 시 전체 코퍼스에서 모델을 학습시키는 빈도 제어\n",
    "        model_list.append(lda_model)\n",
    "        x.append(topic+1)\n",
    "        perplexity_values.append(lda_model.log_perplexity(corpus))\n",
    "        coherencemodel = models.CoherenceModel(model=lda_model, texts=texts, dictionary=dictionary, coherence='c_v')\n",
    "        coherence_values.append(coherencemodel.get_coherence())\n",
    "        print(f\"Training for LDA_model-Topic_num:{topic+1} is finished.\\n\")\n",
    "    return model_list, x, perplexity_values, coherence_values\n"
   ]
  },
  {
   "cell_type": "code",
   "execution_count": 28,
   "metadata": {},
   "outputs": [
    {
     "name": "stdout",
     "output_type": "stream",
     "text": [
      "numbers of topics： 1\n",
      "Training for LDA_model-Topic_num:1 is finished.\n",
      "\n",
      "numbers of topics： 2\n",
      "Training for LDA_model-Topic_num:2 is finished.\n",
      "\n",
      "numbers of topics： 3\n",
      "Training for LDA_model-Topic_num:3 is finished.\n",
      "\n",
      "numbers of topics： 4\n",
      "Training for LDA_model-Topic_num:4 is finished.\n",
      "\n",
      "numbers of topics： 5\n",
      "Training for LDA_model-Topic_num:5 is finished.\n",
      "\n",
      "numbers of topics： 6\n",
      "Training for LDA_model-Topic_num:6 is finished.\n",
      "\n",
      "numbers of topics： 7\n",
      "Training for LDA_model-Topic_num:7 is finished.\n",
      "\n",
      "numbers of topics： 8\n",
      "Training for LDA_model-Topic_num:8 is finished.\n",
      "\n",
      "numbers of topics： 9\n",
      "Training for LDA_model-Topic_num:9 is finished.\n",
      "\n",
      "numbers of topics： 10\n"
     ]
    },
    {
     "name": "stderr",
     "output_type": "stream",
     "text": [
      "findfont: Generic family 'sans-serif' not found because none of the following families were found: NanumBarunGothic\n",
      "findfont: Generic family 'sans-serif' not found because none of the following families were found: NanumBarunGothic\n",
      "findfont: Generic family 'sans-serif' not found because none of the following families were found: NanumBarunGothic\n",
      "findfont: Generic family 'sans-serif' not found because none of the following families were found: NanumBarunGothic\n",
      "findfont: Generic family 'sans-serif' not found because none of the following families were found: NanumBarunGothic\n",
      "findfont: Generic family 'sans-serif' not found because none of the following families were found: NanumBarunGothic\n",
      "findfont: Generic family 'sans-serif' not found because none of the following families were found: NanumBarunGothic\n",
      "findfont: Generic family 'sans-serif' not found because none of the following families were found: NanumBarunGothic\n",
      "findfont: Generic family 'sans-serif' not found because none of the following families were found: NanumBarunGothic\n",
      "findfont: Generic family 'sans-serif' not found because none of the following families were found: NanumBarunGothic\n",
      "/opt/anaconda3/envs/sesac/lib/python3.12/site-packages/IPython/core/pylabtools.py:170: UserWarning: Glyph 44508 (\\N{HANGUL SYLLABLE GYU}) missing from font(s) DejaVu Sans.\n",
      "  fig.canvas.print_figure(bytes_io, **kw)\n",
      "/opt/anaconda3/envs/sesac/lib/python3.12/site-packages/IPython/core/pylabtools.py:170: UserWarning: Glyph 47784 (\\N{HANGUL SYLLABLE MO}) missing from font(s) DejaVu Sans.\n",
      "  fig.canvas.print_figure(bytes_io, **kw)\n",
      "findfont: Generic family 'sans-serif' not found because none of the following families were found: NanumBarunGothic\n",
      "findfont: Generic family 'sans-serif' not found because none of the following families were found: NanumBarunGothic\n",
      "/opt/anaconda3/envs/sesac/lib/python3.12/site-packages/IPython/core/pylabtools.py:170: UserWarning: Glyph 53664 (\\N{HANGUL SYLLABLE TO}) missing from font(s) DejaVu Sans.\n",
      "  fig.canvas.print_figure(bytes_io, **kw)\n",
      "/opt/anaconda3/envs/sesac/lib/python3.12/site-packages/IPython/core/pylabtools.py:170: UserWarning: Glyph 54589 (\\N{HANGUL SYLLABLE PIG}) missing from font(s) DejaVu Sans.\n",
      "  fig.canvas.print_figure(bytes_io, **kw)\n",
      "/opt/anaconda3/envs/sesac/lib/python3.12/site-packages/IPython/core/pylabtools.py:170: UserWarning: Glyph 45944 (\\N{HANGUL SYLLABLE DEL}) missing from font(s) DejaVu Sans.\n",
      "  fig.canvas.print_figure(bytes_io, **kw)\n",
      "/opt/anaconda3/envs/sesac/lib/python3.12/site-packages/IPython/core/pylabtools.py:170: UserWarning: Glyph 47553 (\\N{HANGUL SYLLABLE RING}) missing from font(s) DejaVu Sans.\n",
      "  fig.canvas.print_figure(bytes_io, **kw)\n",
      "findfont: Generic family 'sans-serif' not found because none of the following families were found: NanumBarunGothic\n",
      "findfont: Generic family 'sans-serif' not found because none of the following families were found: NanumBarunGothic\n",
      "findfont: Generic family 'sans-serif' not found because none of the following families were found: NanumBarunGothic\n",
      "findfont: Generic family 'sans-serif' not found because none of the following families were found: NanumBarunGothic\n",
      "findfont: Generic family 'sans-serif' not found because none of the following families were found: NanumBarunGothic\n",
      "findfont: Generic family 'sans-serif' not found because none of the following families were found: NanumBarunGothic\n",
      "findfont: Generic family 'sans-serif' not found because none of the following families were found: NanumBarunGothic\n",
      "findfont: Generic family 'sans-serif' not found because none of the following families were found: NanumBarunGothic\n",
      "findfont: Generic family 'sans-serif' not found because none of the following families were found: NanumBarunGothic\n",
      "findfont: Generic family 'sans-serif' not found because none of the following families were found: NanumBarunGothic\n",
      "findfont: Generic family 'sans-serif' not found because none of the following families were found: NanumBarunGothic\n",
      "findfont: Generic family 'sans-serif' not found because none of the following families were found: NanumBarunGothic\n",
      "findfont: Generic family 'sans-serif' not found because none of the following families were found: NanumBarunGothic\n",
      "findfont: Generic family 'sans-serif' not found because none of the following families were found: NanumBarunGothic\n",
      "findfont: Generic family 'sans-serif' not found because none of the following families were found: NanumBarunGothic\n",
      "findfont: Generic family 'sans-serif' not found because none of the following families were found: NanumBarunGothic\n",
      "findfont: Generic family 'sans-serif' not found because none of the following families were found: NanumBarunGothic\n",
      "findfont: Generic family 'sans-serif' not found because none of the following families were found: NanumBarunGothic\n",
      "findfont: Generic family 'sans-serif' not found because none of the following families were found: NanumBarunGothic\n",
      "findfont: Generic family 'sans-serif' not found because none of the following families were found: NanumBarunGothic\n",
      "/opt/anaconda3/envs/sesac/lib/python3.12/site-packages/IPython/core/pylabtools.py:170: UserWarning: Glyph 51068 (\\N{HANGUL SYLLABLE IL}) missing from font(s) DejaVu Sans.\n",
      "  fig.canvas.print_figure(bytes_io, **kw)\n",
      "/opt/anaconda3/envs/sesac/lib/python3.12/site-packages/IPython/core/pylabtools.py:170: UserWarning: Glyph 44288 (\\N{HANGUL SYLLABLE GWAN}) missing from font(s) DejaVu Sans.\n",
      "  fig.canvas.print_figure(bytes_io, **kw)\n",
      "/opt/anaconda3/envs/sesac/lib/python3.12/site-packages/IPython/core/pylabtools.py:170: UserWarning: Glyph 49457 (\\N{HANGUL SYLLABLE SEONG}) missing from font(s) DejaVu Sans.\n",
      "  fig.canvas.print_figure(bytes_io, **kw)\n",
      "findfont: Generic family 'sans-serif' not found because none of the following families were found: NanumBarunGothic\n",
      "findfont: Generic family 'sans-serif' not found because none of the following families were found: NanumBarunGothic\n",
      "/opt/anaconda3/envs/sesac/lib/python3.12/site-packages/IPython/core/pylabtools.py:170: UserWarning: Glyph 49688 (\\N{HANGUL SYLLABLE SU}) missing from font(s) DejaVu Sans.\n",
      "  fig.canvas.print_figure(bytes_io, **kw)\n",
      "findfont: Generic family 'sans-serif' not found because none of the following families were found: NanumBarunGothic\n",
      "findfont: Generic family 'sans-serif' not found because none of the following families were found: NanumBarunGothic\n",
      "findfont: Generic family 'sans-serif' not found because none of the following families were found: NanumBarunGothic\n",
      "findfont: Generic family 'sans-serif' not found because none of the following families were found: NanumBarunGothic\n",
      "findfont: Generic family 'sans-serif' not found because none of the following families were found: NanumBarunGothic\n",
      "findfont: Generic family 'sans-serif' not found because none of the following families were found: NanumBarunGothic\n",
      "findfont: Generic family 'sans-serif' not found because none of the following families were found: NanumBarunGothic\n",
      "findfont: Generic family 'sans-serif' not found because none of the following families were found: NanumBarunGothic\n",
      "findfont: Generic family 'sans-serif' not found because none of the following families were found: NanumBarunGothic\n",
      "findfont: Generic family 'sans-serif' not found because none of the following families were found: NanumBarunGothic\n",
      "findfont: Generic family 'sans-serif' not found because none of the following families were found: NanumBarunGothic\n",
      "findfont: Generic family 'sans-serif' not found because none of the following families were found: NanumBarunGothic\n"
     ]
    },
    {
     "name": "stdout",
     "output_type": "stream",
     "text": [
      "Training for LDA_model-Topic_num:10 is finished.\n",
      "\n"
     ]
    },
    {
     "name": "stderr",
     "output_type": "stream",
     "text": [
      "findfont: Generic family 'sans-serif' not found because none of the following families were found: NanumBarunGothic\n",
      "findfont: Generic family 'sans-serif' not found because none of the following families were found: NanumBarunGothic\n",
      "findfont: Generic family 'sans-serif' not found because none of the following families were found: NanumBarunGothic\n",
      "findfont: Generic family 'sans-serif' not found because none of the following families were found: NanumBarunGothic\n",
      "findfont: Generic family 'sans-serif' not found because none of the following families were found: NanumBarunGothic\n",
      "findfont: Generic family 'sans-serif' not found because none of the following families were found: NanumBarunGothic\n",
      "findfont: Generic family 'sans-serif' not found because none of the following families were found: NanumBarunGothic\n",
      "findfont: Generic family 'sans-serif' not found because none of the following families were found: NanumBarunGothic\n",
      "findfont: Generic family 'sans-serif' not found because none of the following families were found: NanumBarunGothic\n",
      "findfont: Generic family 'sans-serif' not found because none of the following families were found: NanumBarunGothic\n",
      "findfont: Generic family 'sans-serif' not found because none of the following families were found: NanumBarunGothic\n",
      "findfont: Generic family 'sans-serif' not found because none of the following families were found: NanumBarunGothic\n",
      "findfont: Generic family 'sans-serif' not found because none of the following families were found: NanumBarunGothic\n",
      "findfont: Generic family 'sans-serif' not found because none of the following families were found: NanumBarunGothic\n",
      "findfont: Generic family 'sans-serif' not found because none of the following families were found: NanumBarunGothic\n",
      "findfont: Generic family 'sans-serif' not found because none of the following families were found: NanumBarunGothic\n",
      "findfont: Generic family 'sans-serif' not found because none of the following families were found: NanumBarunGothic\n",
      "findfont: Generic family 'sans-serif' not found because none of the following families were found: NanumBarunGothic\n",
      "findfont: Generic family 'sans-serif' not found because none of the following families were found: NanumBarunGothic\n",
      "findfont: Generic family 'sans-serif' not found because none of the following families were found: NanumBarunGothic\n",
      "findfont: Generic family 'sans-serif' not found because none of the following families were found: NanumBarunGothic\n",
      "findfont: Generic family 'sans-serif' not found because none of the following families were found: NanumBarunGothic\n",
      "findfont: Generic family 'sans-serif' not found because none of the following families were found: NanumBarunGothic\n",
      "findfont: Generic family 'sans-serif' not found because none of the following families were found: NanumBarunGothic\n",
      "findfont: Generic family 'sans-serif' not found because none of the following families were found: NanumBarunGothic\n",
      "findfont: Generic family 'sans-serif' not found because none of the following families were found: NanumBarunGothic\n",
      "findfont: Generic family 'sans-serif' not found because none of the following families were found: NanumBarunGothic\n",
      "findfont: Generic family 'sans-serif' not found because none of the following families were found: NanumBarunGothic\n",
      "findfont: Generic family 'sans-serif' not found because none of the following families were found: NanumBarunGothic\n",
      "findfont: Generic family 'sans-serif' not found because none of the following families were found: NanumBarunGothic\n",
      "findfont: Generic family 'sans-serif' not found because none of the following families were found: NanumBarunGothic\n",
      "findfont: Generic family 'sans-serif' not found because none of the following families were found: NanumBarunGothic\n",
      "findfont: Generic family 'sans-serif' not found because none of the following families were found: NanumBarunGothic\n",
      "findfont: Generic family 'sans-serif' not found because none of the following families were found: NanumBarunGothic\n",
      "findfont: Generic family 'sans-serif' not found because none of the following families were found: NanumBarunGothic\n",
      "findfont: Generic family 'sans-serif' not found because none of the following families were found: NanumBarunGothic\n",
      "findfont: Generic family 'sans-serif' not found because none of the following families were found: NanumBarunGothic\n",
      "findfont: Generic family 'sans-serif' not found because none of the following families were found: NanumBarunGothic\n",
      "findfont: Generic family 'sans-serif' not found because none of the following families were found: NanumBarunGothic\n",
      "findfont: Generic family 'sans-serif' not found because none of the following families were found: NanumBarunGothic\n",
      "findfont: Generic family 'sans-serif' not found because none of the following families were found: NanumBarunGothic\n",
      "findfont: Generic family 'sans-serif' not found because none of the following families were found: NanumBarunGothic\n",
      "findfont: Generic family 'sans-serif' not found because none of the following families were found: NanumBarunGothic\n",
      "findfont: Generic family 'sans-serif' not found because none of the following families were found: NanumBarunGothic\n",
      "findfont: Generic family 'sans-serif' not found because none of the following families were found: NanumBarunGothic\n",
      "findfont: Generic family 'sans-serif' not found because none of the following families were found: NanumBarunGothic\n",
      "findfont: Generic family 'sans-serif' not found because none of the following families were found: NanumBarunGothic\n",
      "findfont: Generic family 'sans-serif' not found because none of the following families were found: NanumBarunGothic\n",
      "findfont: Generic family 'sans-serif' not found because none of the following families were found: NanumBarunGothic\n",
      "findfont: Generic family 'sans-serif' not found because none of the following families were found: NanumBarunGothic\n",
      "findfont: Generic family 'sans-serif' not found because none of the following families were found: NanumBarunGothic\n",
      "findfont: Generic family 'sans-serif' not found because none of the following families were found: NanumBarunGothic\n",
      "findfont: Generic family 'sans-serif' not found because none of the following families were found: NanumBarunGothic\n",
      "findfont: Generic family 'sans-serif' not found because none of the following families were found: NanumBarunGothic\n",
      "findfont: Generic family 'sans-serif' not found because none of the following families were found: NanumBarunGothic\n",
      "findfont: Generic family 'sans-serif' not found because none of the following families were found: NanumBarunGothic\n",
      "findfont: Generic family 'sans-serif' not found because none of the following families were found: NanumBarunGothic\n",
      "findfont: Generic family 'sans-serif' not found because none of the following families were found: NanumBarunGothic\n",
      "findfont: Generic family 'sans-serif' not found because none of the following families were found: NanumBarunGothic\n",
      "findfont: Generic family 'sans-serif' not found because none of the following families were found: NanumBarunGothic\n",
      "findfont: Generic family 'sans-serif' not found because none of the following families were found: NanumBarunGothic\n",
      "findfont: Generic family 'sans-serif' not found because none of the following families were found: NanumBarunGothic\n",
      "findfont: Generic family 'sans-serif' not found because none of the following families were found: NanumBarunGothic\n",
      "findfont: Generic family 'sans-serif' not found because none of the following families were found: NanumBarunGothic\n"
     ]
    },
    {
     "data": {
      "image/png": "[encoded data removed]",
      "text/plain": [
       "<Figure size 1500x500 with 2 Axes>"
      ]
     },
     "metadata": {},
     "output_type": "display_data"
    }
   ],
   "source": [
    "import matplotlib.pyplot as plt\n",
    "import matplotlib\n",
    "from pylab import xticks,yticks,np\n",
    "\n",
    "num_topics = 10\n",
    "\n",
    "# training models based on range(num_topics)\n",
    "model_list, x, perplexity_values, coherence_values = lda_model_values(num_topics, corpus, dictionary, docs) \n",
    "\n",
    "# plotting every perplexity&coherence\n",
    "fig = plt.figure(figsize=(15,5))\n",
    "# plt.rcParams['font.sans-serif']=['NanumBarunGothic']\n",
    "plt.rcParams['font.family'] = \"AppleGothic\"\n",
    "matplotlib.rcParams['axes.unicode_minus'] = False \n",
    "\n",
    "\n",
    "ax1 = fig.add_subplot(1, 2, 1)\n",
    "plt.plot(x, perplexity_values, marker=\"o\")\n",
    "plt.title(\"토픽모델링-perplexity\")\n",
    "plt.xlabel('토픽 규모')\n",
    "plt.ylabel('perplexity 규모')\n",
    "xticks(np.linspace(1, num_topics, num_topics, endpoint=True)) # interval of x axis labels == 1\n",
    "\n",
    "\n",
    "\n",
    "ax2 = fig.add_subplot(1, 2, 2)\n",
    "plt.plot(x, coherence_values, marker=\"o\")\n",
    "plt.title(\"토픽모델링-일관성\")\n",
    "plt.xlabel(\"토픽수 규모\")\n",
    "plt.ylabel(\"일관성 규모\")\n",
    "xticks(np.linspace(1, num_topics, num_topics, endpoint=True))\n",
    "\n",
    "\n",
    "plt.show()"
   ]
  },
  {
   "cell_type": "code",
   "execution_count": 29,
   "metadata": {},
   "outputs": [],
   "source": [
    "num_topics = 15"
   ]
  },
  {
   "cell_type": "code",
   "execution_count": 30,
   "metadata": {},
   "outputs": [],
   "source": [
    "lda = models.ldamodel.LdaModel(corpus=corpus, id2word=dictionary, \n",
    "                 num_topics=num_topics, random_state=1, \n",
    "                 chunksize = 2000, passes=20, iterations = 400)"
   ]
  },
  {
   "cell_type": "code",
   "execution_count": 31,
   "metadata": {},
   "outputs": [
    {
     "name": "stdout",
     "output_type": "stream",
     "text": [
      "(2, '0.017*\"문학\" + 0.015*\"환자\" + 0.014*\"p.\" + 0.012*\"읽\" + 0.012*\"글\" + 0.012*\"의사\" + 0.011*\"소설\" + 0.011*\"죽음\" + 0.010*\"작가\" + 0.008*\"병원\"')\n",
      "(11, '0.131*\"ᆸ니다\" + 0.111*\"습니다\" + 0.026*\"저\" + 0.015*\"시\" + 0.014*\"지요\" + 0.009*\"스님\" + 0.008*\"p.\" + 0.008*\"당신\" + 0.007*\"세요\" + 0.007*\"요\"')\n",
      "(1, '0.008*\"돈\" + 0.007*\"회사\" + 0.007*\"사회\" + 0.006*\"공부\" + 0.006*\"학교\" + 0.006*\"대\" + 0.006*\"학생\" + 0.006*\"생활\" + 0.006*\"교육\" + 0.006*\"p.\"')\n",
      "(6, '0.027*\"p.\" + 0.009*\"당신\" + 0.007*\"ᆯ\" + 0.007*\"너\" + 0.006*\"ᆯ까\" + 0.006*\"순간\" + 0.005*\"작가\" + 0.005*\"행복\" + 0.005*\"으면\" + 0.005*\"그런\"')\n",
      "(13, '0.025*\"동물\" + 0.025*\"고양이\" + 0.021*\"식물\" + 0.018*\"장애\" + 0.016*\"장애인\" + 0.014*\"p.\" + 0.011*\"인간\" + 0.009*\"개\" + 0.008*\"어린이\" + 0.007*\"환경\"')\n",
      "(4, '0.038*\"먹\" + 0.015*\"음식\" + 0.014*\"맛\" + 0.013*\"밥\" + 0.012*\"술\" + 0.010*\"마시\" + 0.009*\"p.\" + 0.008*\"집\" + 0.007*\"커피\" + 0.006*\"요리\"')\n",
      "(5, '0.010*\"인간\" + 0.010*\"p.\" + 0.008*\"사회\" + 0.007*\"세계\" + 0.006*\"그것\" + 0.006*\"존재\" + 0.006*\"자기\" + 0.005*\"여성\" + 0.004*\"이나\" + 0.004*\"는다\"')\n",
      "(7, '0.013*\"여행\" + 0.008*\"집\" + 0.008*\"곳\" + 0.007*\"p.\" + 0.006*\"그림\" + 0.005*\"떠나\" + 0.005*\"사진\" + 0.004*\"만나\" + 0.004*\"공간\" + 0.004*\"도시\"')\n",
      "(3, '0.015*\"시\" + 0.010*\"아버지\" + 0.009*\"어머니\" + 0.007*\"님\" + 0.006*\"는데\" + 0.005*\"집\" + 0.005*\"니\" + 0.005*\"선생\" + 0.004*\"마을\" + 0.004*\"세\"')\n",
      "(14, '0.024*\"글\" + 0.016*\"작가\" + 0.006*\"읽\" + 0.006*\"방송\" + 0.006*\"1\" + 0.005*\"노래\" + 0.005*\"작품\" + 0.005*\"인생\" + 0.004*\"선수\" + 0.004*\"첫\"')\n"
     ]
    }
   ],
   "source": [
    "for t in lda.show_topics(): print(t)"
   ]
  },
  {
   "cell_type": "code",
   "execution_count": null,
   "metadata": {},
   "outputs": [],
   "source": [
    "# generate a wordcloud for each topic\n",
    "from wordcloud import WordCloud \n",
    "wc = WordCloud(background_color='white',\n",
    "        font_path='/Users/hyo-cheolahn/Library/Fonts/NanumGothic-Regular')\n",
    "\n",
    "plt.figure(figsize=(30,30))\n",
    "for t in range(lda.num_topics):\n",
    "    plt.subplot(5,4,t+1)\n",
    "    x = dict(lda.show_topic(t,200))\n",
    "    im = wc.generate_from_frequencies(x)\n",
    "    plt.imshow(im)\n",
    "    plt.axis(\"off\")\n",
    "    plt.title(\"Topic #\" + str(t))"
   ]
  },
  {
   "cell_type": "code",
   "execution_count": 40,
   "metadata": {},
   "outputs": [],
   "source": [
    "import pyLDAvis\n",
    "import pyLDAvis.gensim_models"
   ]
  },
  {
   "cell_type": "code",
   "execution_count": null,
   "metadata": {},
   "outputs": [],
   "source": [
    "pyLDAvis.enable_notebook()\n",
    "vis = pyLDAvis.gensim_models.prepare(lda, corpus, dictionary)\n",
    "vis"
   ]
  },
  {
   "cell_type": "code",
   "execution_count": 42,
   "metadata": {},
   "outputs": [],
   "source": [
    "from gensim.models.doc2vec import Doc2Vec, TaggedDocument  # TaggedDocument는 corpus의 id(=tag)를 함께 넘겨줌\n",
    "docs=[ d.split() for d in df['texts_tokenized'].to_list()]\n",
    "tagged_data = [TaggedDocument(d, tags=[str(i)]) for i, d in enumerate(docs)]"
   ]
  }
 ],
 "metadata": {
  "kernelspec": {
   "display_name": "sesac",
   "language": "python",
   "name": "python3"
  },
  "language_info": {
   "codemirror_mode": {
    "name": "ipython",
    "version": 3
   },
   "file_extension": ".py",
   "mimetype": "text/x-python",
   "name": "python",
   "nbconvert_exporter": "python",
   "pygments_lexer": "ipython3",
   "version": "3.9.19"
  }
 },
 "nbformat": 4,
 "nbformat_minor": 2
}
