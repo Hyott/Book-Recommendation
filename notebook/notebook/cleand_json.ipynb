{
 "cells": [
  {
   "cell_type": "markdown",
   "metadata": {},
   "source": [
    "### 스크레핑에서 수집한 데이터 전처리\n",
    "- ISBN이 존재하는 것만 남긴다.\n",
    "- ISBN이 제대로 수집되지 않은 경우 제거\n",
    "- ISBN 중복 수집 제거\n",
    "- 출판일이 없는 경우 제거\n",
    "- 앞에 13붙은거 제거"
   ]
  },
  {
   "cell_type": "code",
   "execution_count": 1,
   "metadata": {},
   "outputs": [],
   "source": [
    "def remove_isbn_prefix(json_data):\n",
    "    if \"isbn13\" in json_data:\n",
    "        # isbn13 값에서 'ISBN' 제거\n",
    "        json_data[\"isbn13\"] = str(json_data[\"isbn13\"]).replace(\"ISBN\", \"\").strip()\n",
    "        json_data[\"isbn13\"] = json_data[\"isbn13\"][2:] if json_data[\"isbn13\"].startswith(\"13\") else json_data[\"isbn13\"]\n",
    "    return json_data"
   ]
  },
  {
   "cell_type": "code",
   "execution_count": 2,
   "metadata": {},
   "outputs": [],
   "source": [
    "import json\n",
    "json_file_path = '../data/scraping/all_book_data_ver3.json'\n",
    "with open(json_file_path, 'r', encoding='utf-8') as file:\n",
    "  data = json.load(file)\n",
    "  seen = set()\n",
    "  cleaned_json_data = []\n",
    "  for book in data:\n",
    "    isbn13 = book.get(\"isbn13\")\n",
    "    if (book[\"isbn13\"]) and (isbn13 not in seen) and (book['publication_date']) :\n",
    "      updated_data = remove_isbn_prefix(book)\n",
    "      if updated_data[\"isbn13\"].startswith((\"978\", \"979\")):\n",
    "        seen.add(updated_data[\"isbn13\"])\n",
    "        cleaned_json_data.append(updated_data)"
   ]
  },
  {
   "cell_type": "code",
   "execution_count": 3,
   "metadata": {},
   "outputs": [],
   "source": [
    "with open('../data/scraping/all_book_data_ver_cleaned_JY.json', 'w', encoding='utf-8') as file:\n",
    "  json.dump(cleaned_json_data, file, ensure_ascii=False, indent=4)"
   ]
  },
  {
   "cell_type": "code",
   "execution_count": 4,
   "metadata": {},
   "outputs": [
    {
     "name": "stdout",
     "output_type": "stream",
     "text": [
      "16397에서 15989만큼 남았습니다.\n"
     ]
    }
   ],
   "source": [
    "print(f'{len(data)}에서 {len(cleaned_json_data)}만큼 남았습니다.')"
   ]
  }
 ],
 "metadata": {
  "kernelspec": {
   "display_name": "autoTrading_py39",
   "language": "python",
   "name": "python3"
  },
  "language_info": {
   "codemirror_mode": {
    "name": "ipython",
    "version": 3
   },
   "file_extension": ".py",
   "mimetype": "text/x-python",
   "name": "python",
   "nbconvert_exporter": "python",
   "pygments_lexer": "ipython3",
   "version": "3.9.20"
  }
 },
 "nbformat": 4,
 "nbformat_minor": 2
}
