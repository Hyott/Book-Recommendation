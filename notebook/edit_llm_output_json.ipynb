{
 "cells": [
  {
   "cell_type": "code",
   "execution_count": 9,
   "metadata": {},
   "outputs": [
    {
     "name": "stdout",
     "output_type": "stream",
     "text": [
      "missed_isbn_cnt = 72\n",
      "num_sucess 1414\n"
     ]
    }
   ],
   "source": [
    "import json\n",
    "import re\n",
    "\n",
    "# JSON 파일 로드\n",
    "def load_json(file_path):\n",
    "    with open(file_path, 'r', encoding='utf-8') as file:\n",
    "        return json.load(file)\n",
    "\n",
    "# JSON 파일 저장\n",
    "def save_json(data, file_path):\n",
    "    with open(file_path, 'w', encoding='utf-8') as file:\n",
    "        json.dump(data, file, indent=4, ensure_ascii=False)\n",
    "\n",
    "# 데이터 수정 함수\n",
    "def modify_data(data):\n",
    "    global missed_isbn_cnt\n",
    "    modified_data = {}\n",
    "    for key, book in data.items():\n",
    "        # ISBN에서 앞의 두 자리 제거\n",
    "        isbn_str = str(book[\"isbn13\"])[2:]\n",
    "        \n",
    "        # 앞의 두 숫자가 97 또는 98로 시작하지 않으면 저장하지 않음\n",
    "        if not (isbn_str.startswith(\"97\") or isbn_str.startswith(\"98\")):\n",
    "            missed_isbn_cnt += 1\n",
    "            continue\n",
    "        \n",
    "        # 키 값 변경 및 기존 \"isbn13\" 제거\n",
    "        book[\"isbn\"] = int(isbn_str)\n",
    "        del book[\"isbn13\"]\n",
    "        \n",
    "        book[\"sentence\"] = book.pop(\"message\")\n",
    "        \n",
    "        # 해시태그 수정\n",
    "        hashtags = re.findall(r'#([^#]+)', book[\"hashtags\"])\n",
    "        book[\"hashtags\"] = \" \".join([\"#\" + tag.strip() for tag in hashtags[:10]])\n",
    "        \n",
    "        modified_data[key] = book\n",
    "    \n",
    "    return modified_data\n",
    "\n",
    "# 파일 경로 설정\n",
    "input_file = \"/Users/hyo-cheolahn/Documents/Projects/Book-Recommendation/notebook/notebook/data/llm_output.json\"\n",
    "output_file = \"/Users/hyo-cheolahn/Documents/Projects/Book-Recommendation/notebook/notebook/data/llm_output_fixed.json\"\n",
    "missed_isbn_cnt = 0\n",
    "\n",
    "# JSON 파일 로드 및 수정\n",
    "data = load_json(input_file)\n",
    "modified_data = modify_data(data)\n",
    "\n",
    "# 수정된 데이터 저장\n",
    "save_json(modified_data, output_file)\n",
    "print(f\"{missed_isbn_cnt = }\")\n",
    "print(\"num_sucess\", len(modified_data))\n",
    "\n",
    "# 결과 출력\n",
    "# print(json.dumps(modified_data, indent=4, ensure_ascii=False))\n"
   ]
  }
 ],
 "metadata": {
  "kernelspec": {
   "display_name": "mecab_env",
   "language": "python",
   "name": "python3"
  },
  "language_info": {
   "codemirror_mode": {
    "name": "ipython",
    "version": 3
   },
   "file_extension": ".py",
   "mimetype": "text/x-python",
   "name": "python",
   "nbconvert_exporter": "python",
   "pygments_lexer": "ipython3",
   "version": "3.9.21"
  }
 },
 "nbformat": 4,
 "nbformat_minor": 2
}
