{
 "cells": [
  {
   "cell_type": "code",
   "execution_count": 1,
   "metadata": {},
   "outputs": [],
   "source": [
    "import json\n",
    "\n",
    "# JSON 파일 읽기\n",
    "with open(\"../app/data/book_embeddings_openai.json\", \"r\", encoding=\"utf-8\") as file:\n",
    "    data = json.load(file)  # JSON 데이터를 Python 객체(dict 또는 list)로 변환\n"
   ]
  },
  {
   "cell_type": "code",
   "execution_count": 83,
   "metadata": {},
   "outputs": [],
   "source": [
    "import numpy as np\n",
    "vector = []\n",
    "isbn = []\n",
    "\n",
    "book_idx = list(data.keys())\n",
    "for idx in book_idx: \n",
    "  vector.append(data[idx]['embedding'])\n",
    "  isbn.append(data[idx]['isbn'])\n",
    "np_vector = np.array(vector) # book x embedding size"
   ]
  },
  {
   "cell_type": "code",
   "execution_count": 121,
   "metadata": {},
   "outputs": [],
   "source": [
    "def gen_user_vector(embedding_matrix):\n",
    "  num_rows, num_cols = embedding_matrix.shape\n",
    "\n",
    "  # 각 열에서 랜덤한 행을 선택\n",
    "  random_row_indices = np.random.randint(0, num_rows, size=num_cols)\n",
    "  selected_values = embedding_matrix[random_row_indices, np.arange(num_cols)]  # 각 열에서 랜덤한 값 선택\n",
    "\n",
    "  # 최종 (1 × N) 벡터 생성\n",
    "  final_vector = selected_values.reshape(1, num_cols)[0]\n",
    "  return final_vector\n",
    "user_vector1 = gen_user_vector(np_vector)\n",
    "user_vector2 = gen_user_vector(np_vector)"
   ]
  },
  {
   "cell_type": "code",
   "execution_count": null,
   "metadata": {},
   "outputs": [],
   "source": [
    "# 선택되지 않은 벡터들을 제외해 나가는 방식"
   ]
  },
  {
   "cell_type": "code",
   "execution_count": 103,
   "metadata": {},
   "outputs": [],
   "source": [
    "def isbn2vec(isbn_num, isbn_list, embedding_matrix):\n",
    "  return embedding_matrix[isbn_list.index(isbn_num)]\n",
    "isbn2vec(9791191114591, isbn, np_vector)"
   ]
  },
  {
   "cell_type": "code",
   "execution_count": null,
   "metadata": {},
   "outputs": [],
   "source": [
    "# 유저 벡터로 부터 2개의 방향을 정한다."
   ]
  },
  {
   "cell_type": "code",
   "execution_count": 105,
   "metadata": {},
   "outputs": [
    {
     "data": {
      "text/plain": [
       "array([-0.01067669, -0.01538632, -0.01866706, ..., -0.01404888,\n",
       "       -0.00756742, -0.00204618])"
      ]
     },
     "execution_count": 105,
     "metadata": {},
     "output_type": "execute_result"
    }
   ],
   "source": [
    "# 유저가 특정 책에 대해서 yes, no할 때 유저 벡터가 업데이트되고 두권을 리턴"
   ]
  },
  {
   "cell_type": "code",
   "execution_count": 136,
   "metadata": {},
   "outputs": [
    {
     "data": {
      "text/plain": [
       "(1781, 3072)"
      ]
     },
     "execution_count": 136,
     "metadata": {},
     "output_type": "execute_result"
    }
   ],
   "source": [
    "np_vector.shape"
   ]
  },
  {
   "cell_type": "code",
   "execution_count": null,
   "metadata": {},
   "outputs": [],
   "source": [
    "# 임베딩 벡터의 평균\n",
    "embedding_mean_vector = np_vector.mean(axis = 0)"
   ]
  },
  {
   "cell_type": "code",
   "execution_count": 160,
   "metadata": {},
   "outputs": [],
   "source": [
    "alpha = 0.5\n",
    "a_vector = user_vector + alpha * embedding_mean_vector\n",
    "b_vector = user_vector - alpha * embedding_mean_vector"
   ]
  },
  {
   "cell_type": "code",
   "execution_count": 161,
   "metadata": {},
   "outputs": [],
   "source": [
    "# 선택한 책 벡터를 바탕으로 유저 벡터를 업데이트\n",
    "alpha = 0.5 # 학습률\n",
    "select_true_bookv = a_vector\n",
    "select_false_bookv = b_vector\n",
    "user_vector = user_vector + alpha * (select_true_bookv - user_vector) - alpha*( select_false_bookv- user_vector)"
   ]
  },
  {
   "cell_type": "code",
   "execution_count": 163,
   "metadata": {},
   "outputs": [
    {
     "name": "stdout",
     "output_type": "stream",
     "text": [
      "가장 유사한 벡터 인덱스: 542\n",
      "가장 높은 코사인 유사도: 0.50581282956619\n"
     ]
    }
   ],
   "source": [
    "import numpy as np\n",
    "\n",
    "def cosine_similarity_matrix(matrix, vector):\n",
    "    \"\"\"(1781 × 3072) 벡터 집합과 (1 × 3072) 벡터 간 코사인 유사도 계산\"\"\"\n",
    "    # 각 벡터와의 내적 계산\n",
    "    dot_product = np.dot(matrix, vector.T)  # (1781, 3072) ⋅ (3072,) → (1781,)\n",
    "    \n",
    "    # 벡터 크기 (Norm) 계산\n",
    "    norm_matrix = np.linalg.norm(matrix, axis=1)  # (1781,)\n",
    "    norm_vector = np.linalg.norm(vector)  # (1,)\n",
    "\n",
    "    # 코사인 유사도 계산\n",
    "    similarity = dot_product / (norm_matrix * norm_vector)\n",
    "\n",
    "    return similarity  # (1781,) 형태의 유사도 배열 반환\n",
    "\n",
    "# 코사인 유사도 계산\n",
    "similarity_scores = cosine_similarity_matrix(np_vector, b_vector)\n",
    "\n",
    "# 가장 유사한 벡터 찾기\n",
    "most_similar_index = np.argmax(similarity_scores)  # 유사도 최대값의 인덱스\n",
    "print(f\"가장 유사한 벡터 인덱스: {most_similar_index}\")\n",
    "print(f\"가장 높은 코사인 유사도: {similarity_scores[most_similar_index]}\")\n",
    "\n",
    "# 만약 같으면 두번째 유사한걸로 수정\n",
    "# 이전에 사용한 질문이면 제외\n"
   ]
  }
 ],
 "metadata": {
  "kernelspec": {
   "display_name": "autoTrading_py39",
   "language": "python",
   "name": "python3"
  },
  "language_info": {
   "codemirror_mode": {
    "name": "ipython",
    "version": 3
   },
   "file_extension": ".py",
   "mimetype": "text/x-python",
   "name": "python",
   "nbconvert_exporter": "python",
   "pygments_lexer": "ipython3",
   "version": "3.9.20"
  }
 },
 "nbformat": 4,
 "nbformat_minor": 2
}
