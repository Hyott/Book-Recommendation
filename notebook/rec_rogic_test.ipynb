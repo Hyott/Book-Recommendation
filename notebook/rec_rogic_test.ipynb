{
 "cells": [
  {
   "cell_type": "code",
   "execution_count": 3,
   "metadata": {},
   "outputs": [],
   "source": [
    "import json\n",
    "\n",
    "# JSON 파일 경로\n",
    "file_path = \"../app/data/book_embeddings_openai.json\"\n",
    "\n",
    "# JSON 파일 불러오기\n",
    "with open(file_path, \"r\", encoding=\"utf-8\") as file:\n",
    "    data = json.load(file)  # JSON을 파이썬 딕셔너리/리스트로 변환\n"
   ]
  },
  {
   "cell_type": "code",
   "execution_count": 5,
   "metadata": {},
   "outputs": [],
   "source": [
    "book_idx = data.keys()"
   ]
  },
  {
   "cell_type": "code",
   "execution_count": 6,
   "metadata": {},
   "outputs": [],
   "source": [
    "import numpy as np\n",
    "embedding_list = []\n",
    "isbn_list = []\n",
    "for idx in book_idx:\n",
    "  embedding_list.append(data[idx]['embedding'])\n",
    "  isbn_list.append(data[idx]['isbn'])\n",
    "embedding_arr = np.array(embedding_list)\n",
    "isbn_arr = np.array(isbn_list)"
   ]
  },
  {
   "cell_type": "code",
   "execution_count": 8,
   "metadata": {},
   "outputs": [],
   "source": [
    "np.save('embedding_embedding.npy', embedding_arr)\n",
    "np.save('cosine_similarity.npy', embedding_arr)"
   ]
  },
  {
   "cell_type": "code",
   "execution_count": 7,
   "metadata": {},
   "outputs": [],
   "source": [
    "from sklearn.metrics.pairwise import cosine_similarity\n",
    "cos_sim = cosine_similarity(embedding_arr)\n"
   ]
  },
  {
   "cell_type": "code",
   "execution_count": 235,
   "metadata": {},
   "outputs": [
    {
     "name": "stdout",
     "output_type": "stream",
     "text": [
      "\n",
      "🔹 1번째 라운드: 현재 벡터 개수 = 1781\n",
      "\n",
      "🔹 2번째 라운드: 현재 벡터 개수 = 1015\n",
      "\n",
      "🔹 3번째 라운드: 현재 벡터 개수 = 578\n",
      "\n",
      "🔹 4번째 라운드: 현재 벡터 개수 = 329\n",
      "\n",
      "🔹 5번째 라운드: 현재 벡터 개수 = 187\n",
      "\n",
      "🔹 6번째 라운드: 현재 벡터 개수 = 106\n",
      "\n",
      "🔹 7번째 라운드: 현재 벡터 개수 = 60\n",
      "\n",
      "🔹 8번째 라운드: 현재 벡터 개수 = 34\n",
      "\n",
      "🔹 9번째 라운드: 현재 벡터 개수 = 19\n",
      "\n",
      "🔹 10번째 라운드: 현재 벡터 개수 = 10\n",
      "\n",
      "✅ 최종 남은 벡터 개수: 5\n",
      "✅ 최종 선택된 원본 벡터 인덱스: [ 538 1076  256 1120   31]\n"
     ]
    }
   ],
   "source": [
    "import numpy as np\n",
    "from sklearn.metrics.pairwise import cosine_similarity\n",
    "\n",
    "def filter_top_70_percent(embedding_arr, original_indices):\n",
    "    \"\"\"\n",
    "    현재 벡터들에서 코사인 유사도를 기반으로 상위 70% 벡터만 남기는 함수\n",
    "    \"\"\"\n",
    "    cos_sim = cosine_similarity(embedding_arr)\n",
    "    \n",
    "    # ✅ 랜덤으로 벡터 하나 선택 (현재 남아있는 벡터 중)\n",
    "    random_idx = np.random.choice(len(embedding_arr), 1)[0]\n",
    "\n",
    "    # ✅ 선택된 벡터와 유사한 순서대로 정렬\n",
    "    sorted_indices = np.argsort(-cos_sim[random_idx])\n",
    "\n",
    "    # ✅ 상위 70% 벡터만 선택\n",
    "    num_keep = int(len(sorted_indices) * 0.57)\n",
    "    top_indices = sorted_indices[:num_keep]\n",
    "\n",
    "    # ✅ 벡터와 인덱스 업데이트\n",
    "    return embedding_arr[top_indices], original_indices[top_indices]\n",
    "\n",
    "# ✅ 초기 데이터 설정\n",
    "embedding_arr = np.array(embedding_list)\n",
    "original_indices = np.arange(len(embedding_arr))\n",
    "\n",
    "# ✅ 10번 반복하여 상위 70% 유지\n",
    "for round_num in range(10):\n",
    "    print(f\"\\n🔹 {round_num+1}번째 라운드: 현재 벡터 개수 = {len(embedding_arr)}\")\n",
    "    \n",
    "    embedding_arr, original_indices = filter_top_70_percent(embedding_arr, original_indices)\n",
    "\n",
    "print(f\"\\n✅ 최종 남은 벡터 개수: {len(embedding_arr)}\")\n",
    "print(f\"✅ 최종 선택된 원본 벡터 인덱스: {original_indices}\")\n"
   ]
  }
 ],
 "metadata": {
  "kernelspec": {
   "display_name": "autoTrading_py39",
   "language": "python",
   "name": "python3"
  },
  "language_info": {
   "codemirror_mode": {
    "name": "ipython",
    "version": 3
   },
   "file_extension": ".py",
   "mimetype": "text/x-python",
   "name": "python",
   "nbconvert_exporter": "python",
   "pygments_lexer": "ipython3",
   "version": "3.9.20"
  }
 },
 "nbformat": 4,
 "nbformat_minor": 2
}
