{
 "cells": [
  {
   "cell_type": "code",
   "execution_count": 1,
   "metadata": {},
   "outputs": [],
   "source": [
    "import numpy as np\n",
    "embedding = np.load('../app/data/embedding.npy')\n",
    "cosine_similarity = np.load('../app/data/cosine_similarity.npy')\n",
    "isbn_arr = np.load('../app/data/isbn_arr.npy')"
   ]
  },
  {
   "cell_type": "code",
   "execution_count": 3,
   "metadata": {},
   "outputs": [
    {
     "data": {
      "text/plain": [
       "['kmeans_model.pkl']"
      ]
     },
     "execution_count": 3,
     "metadata": {},
     "output_type": "execute_result"
    }
   ],
   "source": [
    "from sklearn.cluster import KMeans\n",
    "import joblib\n",
    "\n",
    "# K-means 클러스터링 모델을 생성합니다.\n",
    "# 클러스터의 수는 3으로 설정하고, 재현성을 위해 random_state를 지정합니다.\n",
    "kmeans = KMeans(n_clusters=5, random_state=42)\n",
    "kmeans.fit(embedding)\n",
    "\n",
    "# 각 데이터의 클러스터 레이블을 가져옵니다.\n",
    "labels = kmeans.labels_\n",
    "\n",
    "# 클러스터링 모델을 파일로 저장합니다.\n",
    "joblib.dump(kmeans, 'kmeans_model.pkl')\n"
   ]
  },
  {
   "cell_type": "code",
   "execution_count": 4,
   "metadata": {},
   "outputs": [],
   "source": []
  },
  {
   "cell_type": "code",
   "execution_count": 18,
   "metadata": {},
   "outputs": [
    {
     "data": {
      "text/plain": [
       "array([1421,  122,  917,  263,  707])"
      ]
     },
     "execution_count": 18,
     "metadata": {},
     "output_type": "execute_result"
    }
   ],
   "source": [
    "sample_isbn = np.random.choice(range(1, len(isbn_arr)+1), 5)\n",
    "sample_isbn"
   ]
  },
  {
   "cell_type": "code",
   "execution_count": 19,
   "metadata": {},
   "outputs": [],
   "source": []
  },
  {
   "cell_type": "code",
   "execution_count": null,
   "metadata": {},
   "outputs": [],
   "source": []
  },
  {
   "cell_type": "code",
   "execution_count": 42,
   "metadata": {},
   "outputs": [],
   "source": [
    "kmeans_model = joblib.load('../app/data/kmeans_model.pkl')\n",
    "subset_embedding = embedding[sample_isbn]\n",
    "predict_result = kmeans_model.predict(subset_embedding)\n",
    "pick_books = np.array([], dtype=int)\n",
    "\n",
    "for predict in predict_result:\n",
    "  a = np.argsort(cosine_similarity[sample_isbn[0] - 1]) + 1\n",
    "  b = np.where(kmeans_model.labels_ == predict)\n",
    "  result = a[np.isin(a, b)][:10]\n",
    "  pick_book = np.random.choice(result, 1) \n",
    "  pick_books = np.append(pick_books, pick_book)"
   ]
  },
  {
   "cell_type": "code",
   "execution_count": 43,
   "metadata": {},
   "outputs": [
    {
     "data": {
      "text/plain": [
       "array([ 450,  985,  481, 1348,  440])"
      ]
     },
     "execution_count": 43,
     "metadata": {},
     "output_type": "execute_result"
    }
   ],
   "source": [
    "pick_books"
   ]
  },
  {
   "cell_type": "code",
   "execution_count": 8,
   "metadata": {},
   "outputs": [
    {
     "data": {
      "text/plain": [
       "(array([4.00000e+01, 6.40000e+01, 2.82000e+02, 8.88000e+02, 2.25800e+03,\n",
       "        5.16400e+03, 1.04980e+04, 1.99540e+04, 3.42100e+04, 5.39260e+04,\n",
       "        8.15260e+04, 1.14172e+05, 1.53254e+05, 1.91856e+05, 2.28578e+05,\n",
       "        2.57084e+05, 2.75388e+05, 2.79162e+05, 2.68884e+05, 2.47588e+05,\n",
       "        2.16180e+05, 1.83154e+05, 1.49304e+05, 1.16256e+05, 8.77540e+04,\n",
       "        6.36540e+04, 4.49620e+04, 3.03800e+04, 2.04720e+04, 1.32540e+04,\n",
       "        8.49600e+03, 4.89000e+03, 2.98200e+03, 1.81600e+03, 9.10000e+02,\n",
       "        4.72000e+02, 2.48000e+02, 1.30000e+02, 4.80000e+01, 2.60000e+01,\n",
       "        1.20000e+01, 4.00000e+00, 0.00000e+00, 0.00000e+00, 0.00000e+00,\n",
       "        0.00000e+00, 0.00000e+00, 0.00000e+00, 0.00000e+00, 1.78100e+03]),\n",
       " array([0.11957773, 0.13718617, 0.15479462, 0.17240307, 0.19001151,\n",
       "        0.20761996, 0.2252284 , 0.24283685, 0.26044529, 0.27805374,\n",
       "        0.29566218, 0.31327063, 0.33087907, 0.34848752, 0.36609596,\n",
       "        0.38370441, 0.40131286, 0.4189213 , 0.43652975, 0.45413819,\n",
       "        0.47174664, 0.48935508, 0.50696353, 0.52457197, 0.54218042,\n",
       "        0.55978886, 0.57739731, 0.59500576, 0.6126142 , 0.63022265,\n",
       "        0.64783109, 0.66543954, 0.68304798, 0.70065643, 0.71826487,\n",
       "        0.73587332, 0.75348176, 0.77109021, 0.78869865, 0.8063071 ,\n",
       "        0.82391555, 0.84152399, 0.85913244, 0.87674088, 0.89434933,\n",
       "        0.91195777, 0.92956622, 0.94717466, 0.96478311, 0.98239155,\n",
       "        1.        ]),\n",
       " <BarContainer object of 50 artists>)"
      ]
     },
     "execution_count": 8,
     "metadata": {},
     "output_type": "execute_result"
    },
    {
     "data": {
      "image/png": "[encoded data removed]",
      "text/plain": [
       "<Figure size 640x480 with 1 Axes>"
      ]
     },
     "metadata": {},
     "output_type": "display_data"
    }
   ],
   "source": [
    "import numpy as np\n",
    "import matplotlib.pyplot as plt\n",
    "plt.hist(cosine_similarity.flatten(), bins=50, edgecolor='black')\n"
   ]
  },
  {
   "cell_type": "code",
   "execution_count": 4,
   "metadata": {},
   "outputs": [],
   "source": [
    "def to_zero_index(indices):\n",
    "    # 1-indexed 리스트나 배열을 0-indexed로 변환\n",
    "    return np.array(indices) - 1\n",
    "\n",
    "def to_one_index(indices):\n",
    "    # 0-indexed 리스트나 배열을 1-indexed로 변환\n",
    "    return np.array(indices) + 1"
   ]
  },
  {
   "cell_type": "code",
   "execution_count": 72,
   "metadata": {},
   "outputs": [],
   "source": [
    "# 1-indexed 값을 0-indexed로 변환해서 cosine_similarity 접근\n",
    "selected_book_indices = [100, 200, 300, 400, 500]\n",
    "selected_zero_indices = to_zero_index(selected_book_indices)\n",
    "average_similarity = cosine_similarity[selected_zero_indices, :].mean(axis=0)  # 열 방향 평균\n",
    "\n",
    "ranked_indices = to_one_index(np.argsort(-average_similarity))  # 이 값은 0-index 기준\n",
    "# 0-index 기준으로 선택된 인덱스를 제외한 후, 상위 1000개 선택\n",
    "remove_selected_indices = ranked_indices[~np.isin(ranked_indices, selected_book_indices)]\n",
    "book_a = remove_selected_indices[0]\n",
    "book_b = np.argmin(cosine_similarity[remove_selected_indices[0]-1]) + 1\n",
    "recommended_books = [book_a, book_b]"
   ]
  },
  {
   "cell_type": "code",
   "execution_count": 73,
   "metadata": {},
   "outputs": [
    {
     "data": {
      "text/plain": [
       "[424, 1470]"
      ]
     },
     "execution_count": 73,
     "metadata": {},
     "output_type": "execute_result"
    }
   ],
   "source": [
    "recommended_books"
   ]
  },
  {
   "cell_type": "code",
   "execution_count": 60,
   "metadata": {},
   "outputs": [
    {
     "data": {
      "text/plain": [
       "71"
      ]
     },
     "execution_count": 60,
     "metadata": {},
     "output_type": "execute_result"
    }
   ],
   "source": [
    "remove_selected_indices[0]"
   ]
  },
  {
   "cell_type": "code",
   "execution_count": 65,
   "metadata": {},
   "outputs": [
    {
     "data": {
      "text/plain": [
       "921"
      ]
     },
     "execution_count": 65,
     "metadata": {},
     "output_type": "execute_result"
    }
   ],
   "source": []
  },
  {
   "cell_type": "code",
   "execution_count": 39,
   "metadata": {},
   "outputs": [
    {
     "data": {
      "text/plain": [
       "array([ 100,  200,  300, ...,  401, 1363, 1171])"
      ]
     },
     "execution_count": 39,
     "metadata": {},
     "output_type": "execute_result"
    }
   ],
   "source": [
    "np.delete(ranked_indices, selected_book_indices)"
   ]
  },
  {
   "cell_type": "code",
   "execution_count": 32,
   "metadata": {},
   "outputs": [
    {
     "data": {
      "text/plain": [
       "array([ True,  True,  True, ...,  True,  True,  True])"
      ]
     },
     "execution_count": 32,
     "metadata": {},
     "output_type": "execute_result"
    }
   ],
   "source": [
    "~np.isin(ranked_indices, selected_zero_indices)"
   ]
  },
  {
   "cell_type": "code",
   "execution_count": 20,
   "metadata": {},
   "outputs": [
    {
     "data": {
      "text/plain": [
       "array([1148, 1493,  542, ...,   49, 1170, 1159])"
      ]
     },
     "execution_count": 20,
     "metadata": {},
     "output_type": "execute_result"
    }
   ],
   "source": [
    "selected_book_indices = [3, 7, 12]\n",
    "\n",
    "average_similarity = cosine_similarity[selected_book_indices, :].mean(axis=0)  # 열 방향 평균\n",
    "\n",
    "ranked_indices = np.argsort(-average_similarity)\n",
    "new_arr = ranked_indices[~np.isin(ranked_indices, selected_book_indices)] "
   ]
  },
  {
   "cell_type": "code",
   "execution_count": 30,
   "metadata": {},
   "outputs": [
    {
     "data": {
      "text/plain": [
       "array([9788965746553, 9788965744474, 9788946421851, ..., 9791193712559,\n",
       "       9791165793197, 9791194021162])"
      ]
     },
     "execution_count": 30,
     "metadata": {},
     "output_type": "execute_result"
    }
   ],
   "source": [
    "isbn_arr[new_arr]"
   ]
  },
  {
   "cell_type": "code",
   "execution_count": 63,
   "metadata": {},
   "outputs": [],
   "source": [
    "import json\n",
    "\n",
    "# JSON 파일 경로\n",
    "file_path = \"../app/data/book_embeddings_openai.json\"\n",
    "\n",
    "# JSON 파일 불러오기\n",
    "with open(file_path, \"r\", encoding=\"utf-8\") as file:\n",
    "    data = json.load(file)  # JSON을 파이썬 딕셔너리/리스트로 변환\n"
   ]
  },
  {
   "cell_type": "code",
   "execution_count": 64,
   "metadata": {},
   "outputs": [],
   "source": [
    "book_idx = data.keys()"
   ]
  },
  {
   "cell_type": "code",
   "execution_count": 65,
   "metadata": {},
   "outputs": [],
   "source": [
    "import numpy as np\n",
    "embedding_list = []\n",
    "isbn_list = []\n",
    "for idx in book_idx:\n",
    "  embedding_list.append(data[idx]['embedding'])\n",
    "  isbn_list.append(data[idx]['isbn'])\n",
    "embedding_arr = np.array(embedding_list)\n",
    "isbn_arr = np.array(isbn_list)"
   ]
  },
  {
   "cell_type": "code",
   "execution_count": 68,
   "metadata": {},
   "outputs": [
    {
     "data": {
      "text/plain": [
       "array([[ 0.00338203, -0.03788321, -0.00417405, ..., -0.00620827,\n",
       "         0.0055552 ,  0.00332645],\n",
       "       [-0.03128926, -0.03648065, -0.0055966 , ..., -0.01528053,\n",
       "         0.01984942, -0.00700015],\n",
       "       [ 0.01781042, -0.03917333, -0.00900722, ..., -0.01607019,\n",
       "        -0.00865318, -0.03048415],\n",
       "       ...,\n",
       "       [ 0.01106439, -0.01899303, -0.01854667, ..., -0.00160693,\n",
       "        -0.00941282,  0.00023853],\n",
       "       [-0.01570408, -0.03955854, -0.01143211, ..., -0.00743944,\n",
       "         0.00875341,  0.01104491],\n",
       "       [ 0.00264323, -0.06739004, -0.01430079, ..., -0.00190428,\n",
       "         0.00519138, -0.01661704]])"
      ]
     },
     "execution_count": 68,
     "metadata": {},
     "output_type": "execute_result"
    }
   ],
   "source": [
    "from sklearn.metrics.pairwise import cosine_similarity\n",
    "cos_sim = cosine_similarity(embedding_arr)\n",
    "tt = np.load('../app/data/embedding.npy')\n",
    "tt\n",
    "# np.save('../app/data/cosine_similarity.npy', cos_sim)"
   ]
  },
  {
   "cell_type": "code",
   "execution_count": 7,
   "metadata": {},
   "outputs": [],
   "source": [
    "random_idx = np.random.choice(len(embedding_arr), 1)[0]"
   ]
  },
  {
   "cell_type": "code",
   "execution_count": 8,
   "metadata": {},
   "outputs": [],
   "source": [
    "sorted_indices = np.argsort(-cos_sim[random_idx])"
   ]
  },
  {
   "cell_type": "code",
   "execution_count": 62,
   "metadata": {},
   "outputs": [
    {
     "data": {
      "text/plain": [
       "(1781, 3072)"
      ]
     },
     "execution_count": 62,
     "metadata": {},
     "output_type": "execute_result"
    }
   ],
   "source": [
    "tt = np.load('../app/data/cosine_similarity.npy')\n",
    "tt.shape"
   ]
  },
  {
   "cell_type": "code",
   "execution_count": 10,
   "metadata": {},
   "outputs": [
    {
     "data": {
      "text/plain": [
       "array([990, 136, 779, ..., 315, 477, 110])"
      ]
     },
     "execution_count": 10,
     "metadata": {},
     "output_type": "execute_result"
    }
   ],
   "source": [
    "top_indices"
   ]
  },
  {
   "cell_type": "code",
   "execution_count": 9,
   "metadata": {},
   "outputs": [
    {
     "data": {
      "text/plain": [
       "array([[ 0.00327518, -0.03155633, -0.01167937, ...,  0.0026072 ,\n",
       "         0.02479111, -0.00276559],\n",
       "       [ 0.03014638,  0.00733174, -0.00583844, ...,  0.00291922,\n",
       "         0.02046418,  0.00887356],\n",
       "       [ 0.01239837, -0.01558084,  0.00086606, ..., -0.01106129,\n",
       "         0.00761361, -0.00801142],\n",
       "       ...,\n",
       "       [ 0.00699306, -0.02939214, -0.01122321, ...,  0.00055391,\n",
       "         0.00717055, -0.00884486],\n",
       "       [-0.02110352, -0.01703373, -0.00415019, ...,  0.00993944,\n",
       "         0.00838698, -0.00072134],\n",
       "       [ 0.01689591, -0.00233577, -0.01024402, ..., -0.00593522,\n",
       "         0.00803843,  0.01581944]])"
      ]
     },
     "execution_count": 9,
     "metadata": {},
     "output_type": "execute_result"
    }
   ],
   "source": [
    "num_keep = int(len(sorted_indices) * 0.57)\n",
    "top_indices = sorted_indices[:num_keep]\n",
    "\n",
    "    \n",
    "embedding_arr[top_indices]"
   ]
  },
  {
   "cell_type": "code",
   "execution_count": 54,
   "metadata": {},
   "outputs": [
    {
     "data": {
      "text/plain": [
       "4"
      ]
     },
     "execution_count": 54,
     "metadata": {},
     "output_type": "execute_result"
    }
   ],
   "source": [
    "np.random.choice(len(embedding_arr), 1)[0]"
   ]
  },
  {
   "cell_type": "code",
   "execution_count": 56,
   "metadata": {},
   "outputs": [
    {
     "data": {
      "text/plain": [
       "5"
      ]
     },
     "execution_count": 56,
     "metadata": {},
     "output_type": "execute_result"
    }
   ],
   "source": [
    "len(embedding_arr)"
   ]
  },
  {
   "cell_type": "code",
   "execution_count": 60,
   "metadata": {},
   "outputs": [
    {
     "data": {
      "text/plain": [
       "array([3])"
      ]
     },
     "execution_count": 60,
     "metadata": {},
     "output_type": "execute_result"
    }
   ],
   "source": [
    "np.random.choice(len(embedding_arr), 1)"
   ]
  },
  {
   "cell_type": "code",
   "execution_count": 12,
   "metadata": {},
   "outputs": [
    {
     "name": "stdout",
     "output_type": "stream",
     "text": [
      "\n",
      "🔹 1번째 라운드: 현재 벡터 개수 = 1781\n",
      "1781\n",
      "\n",
      "🔹 2번째 라운드: 현재 벡터 개수 = 1015\n",
      "1015\n",
      "\n",
      "🔹 3번째 라운드: 현재 벡터 개수 = 578\n",
      "578\n",
      "\n",
      "🔹 4번째 라운드: 현재 벡터 개수 = 329\n",
      "329\n",
      "\n",
      "🔹 5번째 라운드: 현재 벡터 개수 = 187\n",
      "187\n",
      "\n",
      "🔹 6번째 라운드: 현재 벡터 개수 = 106\n",
      "106\n",
      "\n",
      "🔹 7번째 라운드: 현재 벡터 개수 = 60\n",
      "60\n",
      "\n",
      "🔹 8번째 라운드: 현재 벡터 개수 = 34\n",
      "34\n",
      "\n",
      "🔹 9번째 라운드: 현재 벡터 개수 = 19\n",
      "19\n",
      "\n",
      "🔹 10번째 라운드: 현재 벡터 개수 = 10\n",
      "10\n",
      "\n",
      "✅ 최종 남은 벡터 개수: 5\n",
      "✅ 최종 선택된 원본 벡터 인덱스: [1189  212 1225  877 1324]\n"
     ]
    }
   ],
   "source": [
    "import numpy as np\n",
    "from sklearn.metrics.pairwise import cosine_similarity\n",
    "\n",
    "def filter_top_70_percent(embedding_arr, original_indices):\n",
    "    \"\"\"\n",
    "    현재 벡터들에서 코사인 유사도를 기반으로 상위 70% 벡터만 남기는 함수\n",
    "    \"\"\"\n",
    "    cos_sim = cosine_similarity(embedding_arr)\n",
    "    \n",
    "    # ✅ 랜덤으로 벡터 하나 선택 (현재 남아있는 벡터 중)\n",
    "    random_idx = np.random.choice(len(embedding_arr), 1)[0]\n",
    "\n",
    "    # ✅ 선택된 벡터와 유사한 순서대로 정렬\n",
    "    sorted_indices = np.argsort(-cos_sim[random_idx])\n",
    "\n",
    "    # ✅ 상위 70% 벡터만 선택\n",
    "    num_keep = int(len(sorted_indices) * 0.57)\n",
    "    top_indices = sorted_indices[:num_keep]\n",
    "\n",
    "    # ✅ 벡터와 인덱스 업데이트\n",
    "    return embedding_arr[top_indices], original_indices[top_indices]\n",
    "\n",
    "# ✅ 초기 데이터 설정\n",
    "embedding_arr = np.array(embedding_list)\n",
    "original_indices = np.arange(len(embedding_arr))\n",
    "\n",
    "# ✅ 10번 반복하여 상위 70% 유지\n",
    "for round_num in range(10):\n",
    "    print(f\"\\n🔹 {round_num+1}번째 라운드: 현재 벡터 개수 = {len(embedding_arr)}\")\n",
    "    \n",
    "    embedding_arr, original_indices = filter_top_70_percent(embedding_arr, original_indices)\n",
    "\n",
    "print(f\"\\n✅ 최종 남은 벡터 개수: {len(embedding_arr)}\")\n",
    "print(f\"✅ 최종 선택된 원본 벡터 인덱스: {original_indices}\")\n"
   ]
  },
  {
   "cell_type": "code",
   "execution_count": null,
   "metadata": {},
   "outputs": [],
   "source": []
  }
 ],
 "metadata": {
  "kernelspec": {
   "display_name": "autoTrading_py39",
   "language": "python",
   "name": "python3"
  },
  "language_info": {
   "codemirror_mode": {
    "name": "ipython",
    "version": 3
   },
   "file_extension": ".py",
   "mimetype": "text/x-python",
   "name": "python",
   "nbconvert_exporter": "python",
   "pygments_lexer": "ipython3",
   "version": "3.9.20"
  }
 },
 "nbformat": 4,
 "nbformat_minor": 2
}
