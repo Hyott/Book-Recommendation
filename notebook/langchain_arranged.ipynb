{
 "cells": [
  {
   "cell_type": "markdown",
   "metadata": {},
   "source": [
    "### 책소개 / 핵심문장 을 이용한 '생성문장', '해시태그' 생성 프롬프트 및 랭체인"
   ]
  },
  {
   "cell_type": "code",
   "execution_count": 34,
   "metadata": {},
   "outputs": [],
   "source": [
    "from langchain.prompts import PromptTemplate\n",
    "from langchain.chains import LLMChain\n",
    "import json\n",
    "from langchain_upstage import ChatUpstage\n",
    "from langchain.prompts import ChatPromptTemplate, SystemMessagePromptTemplate, HumanMessagePromptTemplate\n",
    "import os\n",
    "\n",
    "# to generate sentence\n",
    "sentence_system_template = SystemMessagePromptTemplate.from_template(\"\"\"\n",
    "당신은 작가의 문체를 학습하고 독자에게 전달하고자 하는 메시지를 생성하는 전문가입니다.\n",
    "주어진 책의 소개글과 핵심 문장을 기반으로 작가의 문체를 반영한 짧은 메시지를 작성하세요.\n",
    "메시지는 40자 이내이면서 두 문장으로 작성하되, 작가의 문체가 드러나야 합니다.\n",
    "\"\"\")\n",
    "sentence_user_template = HumanMessagePromptTemplate.from_template(\"\"\"\n",
    "아래 [text_description]는 이 책의 소개글 입니다. 제 3자의 시선으로 이 책에 대해 알려주는 글 입니다.\n",
    "{text_description}\n",
    "\n",
    "아래 [text_key_sentences]로부터 작가의 문체를 학습하세요. 작가의 핵심문장입니다.\n",
    "{text_key_sentences}\n",
    "\n",
    "위의 내용을 기반으로, 독자에게 작가가 전달하고 싶은 메시지를 40자 이내로 작성해주세요.\n",
    "단, 이 작가가 쓴 글임을 알 수 있게 위의 핵심 문장의 문체를 반영한 문장으로 만들어 주세요.\n",
    "\"\"\")\n",
    "sentence_prompt_template = ChatPromptTemplate.from_messages([sentence_system_template, sentence_user_template])\n",
    "\n",
    "\n",
    "\n",
    "# to generate hashtag\n",
    "hashtag_system_template = SystemMessagePromptTemplate.from_template(\"\"\"\n",
    "당신은 책에 대한 정보를 바탕으로 적절한 해시태그를 생성하는 전문가입니다.\n",
    "책의 소개글과 핵심 문장들을 분석하여 관련된 해시태그를 10개 작성하세요.\n",
    "\"\"\")\n",
    "\n",
    "hashtag_user_template = HumanMessagePromptTemplate.from_template(\"\"\"\n",
    "아래 [text_description]는 이 책의 소개글 입니다. 제 3자의 시선으로 이 책에 대해 알려주는 글 입니다.\n",
    "{text_description}\n",
    "\n",
    "아래 [text_key_sentences]는 이 책의 본문에서 추출한 핵심문장들입니다. 작가가 직접 쓴 문장이므로 문체가 담겨있습니다.\n",
    "{text_key_sentences}\n",
    "\n",
    "위 내용을 바탕으로 관련된 해시태그 10개를 뽑아주세요.\n",
    "\"\"\")\n",
    "\n",
    "hashtag_prompt_template = ChatPromptTemplate.from_messages([hashtag_system_template, hashtag_user_template])\n",
    "\n",
    "\n",
    "# 2. Initialize the LLM (using OpenAI GPT as an example)\n",
    "API_KEY = \"up_NZqIrRnR6XRpI93EZKtO3UlJhtMWI\"\n",
    "llm = ChatUpstage(api_key=API_KEY, model_name=\"solar-pro\", temperature=0.7)\n",
    "\n",
    "# 3. Create the LangChain using the template and LLM\n",
    "sentence_chain = LLMChain(llm=llm, prompt=sentence_prompt_template)\n",
    "hashtag_chain = LLMChain(llm=llm, prompt=hashtag_prompt_template)"
   ]
  },
  {
   "cell_type": "code",
   "execution_count": 35,
   "metadata": {},
   "outputs": [],
   "source": [
    "# 4. Function to process the text and get the result\n",
    "def get_author_message(text_description, text_key_sentences):\n",
    "    return sentence_chain.run({\n",
    "            \"text_description\": text_description,\n",
    "            \"text_key_sentences\": text_key_sentences\n",
    "        }\n",
    "    )\n",
    "\n",
    "def get_hashtags(text_description, text_key_sentences):\n",
    "    return hashtag_chain.run({\n",
    "            \"text_description\": text_description,\n",
    "            \"text_key_sentences\": text_key_sentences\n",
    "        }\n",
    "    )\n",
    "\n",
    "# 5. Function to process multiple books\n",
    "def process_multiple_books(text_description, text_key_sentences, isbn_list):\n",
    "    results = {}\n",
    "    for idx, (text_ds, text_ks) in enumerate(zip(text_description, text_key_sentences)):\n",
    "        print(f\"Processing book {idx}...\")\n",
    "        message = get_author_message(text_ds, text_ks)\n",
    "        hashtags = get_hashtags(text_ds, text_ks)\n",
    "        results[f\"Book {idx}\"] = {\n",
    "            \"message\": message,\n",
    "            \"hashtags\": hashtags,\n",
    "            \"isbn13\": isbn_list[idx]\n",
    "        }\n",
    "\n",
    "        # 파일 저장 경로 설정\n",
    "        file_path = \"notebook/data\"\n",
    "        os.makedirs(file_path, exist_ok=True)  # 디렉토리가 없으면 생성\n",
    "\n",
    "        # JSON 파일로 저장\n",
    "        output_file = os.path.join(file_path, \"llm_output.json\")\n",
    "        with open(output_file, \"w\", encoding=\"utf-8\") as f:\n",
    "            json.dump(results, f, ensure_ascii=False, indent=4)\n",
    "\n",
    "        print(f\"Results have been saved to {output_file}\")\n",
    "\n",
    "    return results"
   ]
  },
  {
   "cell_type": "markdown",
   "metadata": {},
   "source": [
    "### 책 데이터로 부터 리스트 생성"
   ]
  },
  {
   "cell_type": "code",
   "execution_count": 36,
   "metadata": {},
   "outputs": [
    {
     "name": "stdout",
     "output_type": "stream",
     "text": [
      "16397\n",
      "총 16397개의 항목이 생성되었습니다.\n",
      "['행복을 찾는 방법이 아니라불행에 대한 수비력을 길러주는58가지 인생 이야기《1cm 다이빙》, 《홈 in 홈》으로 많은 사랑을 받았던 에세이스트 태수가 2년 만의 신작 《어른의 행복은 조용하다》로 돌아왔다. 이번 신작에서 저자 태수는 그동안 선보였던 이야기보다 한층 성숙하고 현명하게 삶의 행복에 가까워지는 방법에 대해 이야기한다. 새로운 것, 짜릿한 것, 남들보다 높은 곳에서 행복하고 싶어 발버둥치는 사람들에게 행복은 꼭 그런 데에만 있는 게 아니라 불행해지지 않는 것에서부터 출발한다고 조용히 일러준다.《어른의 행복은 조용하다》는 요란한 세상에서도 흔들리지 않고 내 삶을 살아가는 튼튼하고 단단한 태도를 담아냈다. 시끌벅적 기쁜 일을 찾아다니기보다도, 울 일이 없고 별다른 나쁜 일이 없는 하루를 만들어야 한다고 강조한다. 그랬을 때에야 비로소 진정한 행복이 우리 곁에 온다는 사실을 다시 한번 일깨워준다.이 책을 먼저 읽은 독자들의 반응 역시 뜨겁다. “울고 싶어지는 날이면 태수 작가의 글을 찾는다. 충분히 울고 다시 나아가기 위해”, “『불편한 편의점』 이후로 오랜만에 끝나지 않길 바라던 책”이라며 극찬하하며, 저자의 SNS에서 5만여 명의 독자에게 선보인 선공개 원고에도 빨리 책으로 출간해달라는 요청이 쇄도했다.이제 당신 차례다. 《어른의 행복은 조용하다》를 읽고 현명하게 행복을 찾아보자. 혹자는 여전히 의심스러운 목소리로 그토록 조용한 인생에서도 행복을 발견할 수 있냐고 묻지만 저자는 확신에 찬 목소리로 단호하게 답한다. “물론”이라고.']\n",
      "['그냥 지금처럼 살아라. 그렇게 살되 어떤 감정조차 책임질 수 없을 만큼 힘든 날, 마음속이 온통 타인의 감정으로 가득해 당장이라도 터져버릴 것 같은 그런 날. 부러 나밖에 없는 공간으로 도망가자. 그 조용한 공간에서 자신에게도 이렇게 말할 기회를 주자.“나 안 괜찮아.” 가끔은 남에게 줬던 섬세함을 나에게도 허락하자.포기가 습관이 되면 포기하지 않아도 되는 것까지 포기하게 된다. 자신이다.--- p.28 「섬세한 사람일수록 번아웃이 자주 온다」중에서“삶에서 도망치지 않는 것이 얼마나 대단한 건지 넌 모르지. 앉을 자리가 없는 역에서 매일 출근하는 것과 간신히 생긴 자리를 할머니에게 양보해드리는 것. 상사가 튀긴 끈적한 침도 매일 새것처럼 세수하고 털고 일어나 게으름 피우지 않고 모니터를 켜고, 안전화를 신고 가게 문을 여는 그 삶이 사실 얼마나 굉장한 인생인지 넌 모를 거야. 인생의 의미를 잃어도, 누군가의 성공에 까무룩 자존감이 무너져도 꿋꿋이 일어나 제자리로 향하는 너를 응원해. 도망치지 않는 것도 능력이야. 빌어먹을 인생에 정직하게 부딪히는 너도, 충분히 대단한 사람이야.”--- pp.45-46 「도망치지 않는 것도 능력이야」중에서“얘, 너 늙으면 젤루 억울한 게 뭔지 아냐?” 나는 할머니를 동그랗게 쳐다봤다.“주름? 아냐. 돈? 그거 좋지. 근데 그것도 아냐. 할미가 젤루 억울한 건 나는 언제 한번 놀아보나 그것만 보고 살았는데, 지랄. 이제 좀 놀아볼라치니 다 늙어버렸다. 야야, 나는 마지막에 웃는 놈이 좋은 인생인 줄 알았다. 근데 자주 웃는 놈이 좋은 인생이었어. 그러니까 인생 너무 아끼고 살진 말어. 꽃놀이도 꼬박 꼬박 댕기고. 이제 보니 웃음이란 것은 미루면 돈처럼 쌓이는 게 아니라 더 사라지더라.”--- p.70 「자신에게 선물하게 되는 순간부터 어른이야」중에서절망이 넘치는 시대, 우린 좀 더 운의 힘을 믿어야 한다. 최선의 선택을 하고 최선의 노력을 해도 원하지 않는 결과를 얻을 수 있다는 당연한 진실을 받아들여야 한다. 실패는 온전히 당신의 것이 아니다. 최선을 다한 자신에게, 소중한 사람들에게 “네 탓이 아니야”라는 말을 좀 더 넉넉하게 건넬 줄도 알아야 한다. 아무것도 하지 않을 핑곗거리가 아닌, 삶을 포기하지 않고 다시 시작할 용기를 얻기 위해.--- p.92 「인생은 최선을 다해도 실패할 수 있다」중에서세상에는 오답을 너무 잘 알기에 정답에 가까워질 수 있는 사람들도 있다. 매일같이 불행하고 실패하고 슬프고 우울하기에 반대로 어떻게 살아야 그러지 않을 수 있는지를 잘 아는 사람들 말이다. 나는 그게 부정이 가진 힘이라고 믿는다. 부정으로도 긍정을 쌓을 수 있다. 오답을 너무 잘 알면 오히려 정답을 잘 찾아낼 수 있듯.다시 처음으로 돌아가 나는 죽고 싶다 말했지만 그건 사실이 아니었다. 그저 이렇게 살고 싶지 않았을 뿐. 부정으로 똘똘 뭉친 내 마음을 부술 긍정을 찾아내기까지 너무 오래 걸렸을 뿐이다. 이른바 합리적 긍정을 말이다. 부정으로도 긍정을 만들 수 있다. 불행하기에 행복이 무엇인지 더 잘 설명할 수 있다. 그러니 나는 이제 스스로를 이렇게 설명하고 싶다. “나는 부정적인 게 아니야. 합리적으로 긍정적인 사람이지.”--- pp.113-114 「죽고 싶은 게 아니라 이렇게 살고 싶지 않은 거야」중에서요즘은 기록적인 실패를 해도 그냥 내가 웃게 둔다. 불행에 적정 기간 따윈 두지 않고 행복이 새 나올 틈도 기껏 메우지 않는다. 이따금 “네가 지금 이럴 때야?”라는 불호령이 떨어지기도 하지만, 뭐 어쩌라고. 실패해서 짜증 나 죽겠는데 웃지도 말라고? 나는 그저 다음 인생을 살 준비가 됐을 뿐이다. 실패는 슬프지만 오늘로 끝낼 것이다. 그게 내가 웃음으로 불행에게 보내는 신호다.나는 이제 웃으며 다음을 살 것이다.나는 오늘은 실패했지만, 내일은 웃으며 다시 시작할 것이다.--- p.148 「불행의 깊이가 절박함을 증명하진 않는다」중에서어린 시절 할머니는 말했다. 살다 보니 세상에서 젤로 힘든 게 성공이 아닌 만족이라고. 그때는 이해가 가지 않던 그 말이 이제 와 사무친다. 그 뜻을 좀 더 빨리 이해했으면 좋으련만. 어린 날의 나는 그저 흔한 자장가 중 하나라고만 생각했다. 눈이 다 감길 때쯤 할머니는 더 작게 독백했다.“그러니께 이담에 키가 훌쩍 자라도 너무 높은 곳만 보고 살지는 말어. 너는 위, 아래가 아니라 앞, 뒤를 보고 사는 거야. 네가 살아온 거, 그리고 살아갈 거. 그렇게 눈을 돌려야 보이더라고. 내 인생에도 이쁜 것이 참 많았다는 게.”--- pp.187-188 「행복한 가정은 부의 상징」중에서사람에겐 때때로 말 없는 위로가 필요하다. 몇 마디 따끔한 말로 구성된 무정한 위로보다 너의 상처를 이해하고 있다는 깊은 끄덕임과, 진심으로 네 말에 공감하고 있다는 눈 마주침이 우리에겐 훨씬 더 절실할 때가 있다. 아니, 많다. 나는 이제 내 사람들을 그렇게 위로해주고 싶다. “살아”라는 무책임한 한마디가 아니라, 살아볼 만한 하루를 같이 만들어보고 싶다.--- pp.225-226 「가끔은 말 없는 위로가 나를 더 위로한다」중에서어른의 행복은 조용하다. 짜릿함보다는 안도감에, 특별함보단 일상적임에 더 가깝다. 아무 탈 없이 일할 수 있어서, 아픈 곳 없이 가족과 통화할 수 있어서, 희망은 없어도 절망도 없이 내일을 또 살아갈 수 있어서 행복할 수 있는 게 지금의 내 삶이다. 누군가는 그토록 조용한 인생에서도 행복을 발견할 수 있냐고 묻겠지만, 물론. 조용함은 웃을 일이 없는 상태가 아니라 울 일이 없는 상태니까. 기쁜 일이 없는 하루가 아니라 나쁜 일이 없는 하루니까. 아무 일도 없이 지나간 이 조용한 하루들은 우리 인생의 공백이 아닌, 여백이니까.--- pp.228-229 「어른의 행복은 조용하다」중에서마음이 지옥 같은 날, 모든 게 실패한 것 같은 날일수록 보다 공들여 웃고 감사하고 인사하자. 나를 위해서. 내 마음을 지키기 위해서. 그 작은 태도가 어떤 말보다 강력한 신호가 되어줄 테니. 오늘 나는 실패했다. 하지만 그럼에도 불구하고 나는 무너지지 않았다. 나는 오늘 다시 시작한 사람이다.\\n--- p.251 「사람의 우아함은 무너졌을 때 드러난다」중에서']\n"
     ]
    }
   ],
   "source": [
    "import json\n",
    "import re\n",
    "\n",
    "# JSON 데이터 로드\n",
    "with open('/Users/hyo-cheolahn/Documents/Projects/Book-Recommendation/data/scraping/all_book_data_ver3.json', \"r\", encoding=\"utf-8\") as file:\n",
    "    data = json.load(file)\n",
    "\n",
    "print(len(data))\n",
    "# description과 key_sentences를 통합한 리스트 생성\n",
    "description_list = []\n",
    "key_sentences_list = []\n",
    "isbn_list = []\n",
    "isbn_loss_idx = []\n",
    "\n",
    "for idx, el in enumerate(data):\n",
    "    # description과 key_sentences를 가져옴\n",
    "    description = el.get('description', '')  # description이 없으면 빈 문자열\n",
    "    key_sentences = el.get('key_sentences',)  # key_sentences가 없으면 빈 문자열\n",
    "    isbn_str = str(el.get('isbn13', ''))  # isbn13을 문자열로 변환\n",
    "\n",
    "    # 숫자만 추출하고 빈 문자열인 경우 처리\n",
    "    isbn_numeric = re.sub(r\"\\D\", \"\", isbn_str)\n",
    "    if isbn_numeric:  # 숫자가 있는 경우에만 int 변환\n",
    "        isbn13 = int(isbn_numeric)\n",
    "    else:\n",
    "        isbn13 = None\n",
    "        isbn_loss_idx.append(idx)\n",
    "\n",
    "\n",
    "    # 리스트에 추가\n",
    "    description_list.append(description)\n",
    "    key_sentences_list.append(key_sentences)\n",
    "    isbn_list.append(isbn13)\n",
    "\n",
    "# 결과 확인\n",
    "print(f\"총 {len(key_sentences_list)}개의 항목이 생성되었습니다.\")\n",
    "print(description_list[:1])\n",
    "print(key_sentences_list[:1])  # 샘플 출력"
   ]
  },
  {
   "cell_type": "code",
   "execution_count": 37,
   "metadata": {},
   "outputs": [
    {
     "name": "stdout",
     "output_type": "stream",
     "text": [
      "16397\n",
      "16397\n",
      "16397\n",
      "16397\n",
      "[4885, 5737, 5744, 7341, 7726, 8890, 8931, 10710, 10711, 10712, 10859, 13381, 13406, 13432]\n",
      "{'title': '엄마가 호호호 웃으면 마음 끝이 아렸다', 'description': '“사랑을 알아들으세요?”가족 간의 평범한 일상 모두가 ‘사랑’이었음을 깨닫는 순간들일생을 살아가며 어느 정도의 시간을 채우지 않으면 절대 깨닫지 못하는 것들이 있다. 특히 가족 간의 ‘사랑’이 그렇다. 평범한 일상과 대화, 심지어 미움과 오해로 인한 다툼의 순간마저도 모두 사랑이었음을 우리는 뒤늦게 깨닫는다. 그러고는 정현종 시인의 시 제목처럼 “사랑할 시간이 많지 않다.”는 사실에 아쉬워하고 슬퍼한다.책 『엄마가 호호호 웃으면 마음 끝이 아렸다』는 평범한 일상 속에서 찾아낸 깨달음을 잔잔한 목소리로 담아낸 에세이집이다. 저자는 자식의 입장에서, 때로는 부모의 입장에서, 배우자 또는 이웃의 입장에서 삶의 모습을 그려 나간다. 막힘없이 읽히는 가운데에서도 불쑥 수면 위로 떠오르는 시적(詩的) 문장과 아포리즘(aphorism)은 작가의 역량이 얼마나 뛰어나고, 열정이 얼마나 큰지 보여준다.누군가에게 삶은 기적이고, 누군가에게 삶은 지옥이다. 그리고 그러한 상황을 만드는 것은 적지 않은 부분이 본인의 ‘의지’에 달려있다. 따뜻한 시선으로 바라보고, 아름다운 목소리로 노래한다면 힘겨운 일상은 언제든 행복한 순간으로 뒤바뀔 수 있다. 이 책이 지친 하루하루를 살아가는 이들을 도와 행복한 미래를 앞당겨 주기를 기대해 본다.', 'key_sentences': '이 세상에 홀로 발을 딛고 선 채 옆에 있는 가족이 힘들지 않을 만큼 어깨를 기대 본다. 또한 내 어깨도 느슨하게 늘어뜨려 내어 본다. 살아가는 동안 서로 기대고 챙기며 아껴야 할 것은 바로 그 마음이라 여긴다. ‘어차피 인생은 혼자잖아. 그렇지?’ 물으면서.---「마흔의 외동딸」중에서나중에 엄마는 이 일을 두고 이렇게 말했다. “웃고 싶어서 웃는 줄 아니. 살아보니 그게 아니더라. 웃을 일 없어도 웃으면 힘이 나고, 그러면 그 힘으로 하루 사는 거야. 그러니까 웃어야 돼.” 쌀가루를 넣어 가래떡을 뽑아내듯이 세상 모든 엄마들의 일상은 명언으로 제조된다. 살아본 가락에서 뽑아낸 진심이 들어 있는 말들이다.---「낙천적인, 너무나 낙천적인」중에서미래를 살포시 그려보고 나면 피곤에 지쳤다 하더라도 다시 힘을 내게 된다. 아이들을 마음껏 안아볼 시절이 얼마 남지 않았으니, 자기 몸은 자신의 것이라고 주장하기 시작하면 고작해야 등이나 몇 번 두드릴 수 있을 테니, 잠자는 모습이나 훔쳐보면서 언제 저렇게 컸나 감탄하게 될 테니, 그때까지는 우리가 서로 안고 안아주며 묵직한 무게의 사랑을 느껴 보는 일을 게을리해서는 안 될 것만 같다.---「안아줘」중에서오래 보고 살면서도 뼛속 깊이 알기는커녕 모르고 사는 점이 훨씬 많다. 그렇기에 이따금씩 익숙한 사람의 낯선 아름다움도 발견하는 모양이다. 불특정한 악의가 있다면 불특정한 선의도 있지 않나. 그 미지의 가능성이 없다면 우리가 이 불확실한 세상에서 살아가는 일은 더더욱 어려울 것이다.---「언젠가는 모두가 별이 된다고 해도」중에서아이러니한 건 다른 걸 다 포기한 채 인생의 일 순위를 보고 달려가도 실패할 수 있다는 거다. 순위를 매긴다고 해도, 목표대로 양껏 달려 나간다고 해도 성공을 보장받을 순 없다지만 그렇더라도 무덤덤하게 사는 일은 싫은 게 사람 아닌가. 실패가 예정되어 있더라도 결과가 뒤집어질 미세한 확률을 기대하며 우리는 꿈을 꾼다.---「우선순위」중에서울음으로 어깨가 떨릴 때 한 사람이 다시 태어난다. 우는 순간마다 그이는 껍질을 떨궈 내며 새살이 돋아 조금씩 단단해질 것이다. 위로는 그 귀중한 순간을 목도하는 소중한 행동이다. 눈물로 자기 자신을 스스로 위안하는 일을 가치 있게 여길 것. 타인의 곁에서 위로하며 기대는 일을 아름답게 여길 것. 그것이 내가 오늘의 눈물로부터 배운 교훈이다.---「잠깐 기대도 될까」중에서고독하다는 게 뭔지 정확히 알 수는 없지만 벽의 스위치를 켜며 이런 게 고독한 게 아닐까 생각한다. 아무도 모르는 새벽에 책상에 앉아 이야기를 쓰는 일이 어느 순간 고독하게 느껴지기 때문이다. 절대 하지 못할 거라고, 너는 아름다운 이야기를 쓰지 못할 거라고 내가 나에게 이야기한다. 곧 다시 아니라고, 어떻게든 완성된 이야기를 쓸 거라고 이야기한다. 내가 나에게 다시, 다시.\\n---「값진 돌멩이를 찾아서」중에서', 'author': '박태이', 'publisher': '모모북스', 'isbn13': 'ISBN139791190408318', 'img_url': 'https://image.yes24.com/goods/116785635/XL', 'publication_date': '2023-01-10'}\n"
     ]
    }
   ],
   "source": [
    "print(len(data))\n",
    "print(len(description_list))\n",
    "print(len(key_sentences_list))\n",
    "print(len(isbn_list))\n",
    "print(isbn_loss_idx)\n",
    "# print(data[4884])"
   ]
  },
  {
   "cell_type": "markdown",
   "metadata": {},
   "source": [
    "### 예외처리 및 실행"
   ]
  },
  {
   "cell_type": "code",
   "execution_count": 38,
   "metadata": {},
   "outputs": [
    {
     "name": "stdout",
     "output_type": "stream",
     "text": [
      "Processing book 0...\n",
      "Results have been saved to notebook/data/llm_output.json\n",
      "Processing book 1...\n",
      "Results have been saved to notebook/data/llm_output.json\n",
      "Processing book 2...\n",
      "Results have been saved to notebook/data/llm_output.json\n",
      "Processing book 3...\n",
      "Results have been saved to notebook/data/llm_output.json\n",
      "Processing book 4...\n",
      "Results have been saved to notebook/data/llm_output.json\n",
      "Book 0 메시지: \"오늘은 실패했지만, 내일은 웃으며 다시 시작.\"\n",
      "Book 0 해시태그: #어른의행복 #조용한행복 #행복의본질 #삶의태도 #긍정적인삶 #어른의삶 #행복한일상 #행복의가치 #인생의진실 #행복찾기\n",
      "Book 1 메시지: 감각의 시작은 마음가짐. 10억 원짜리 의뢰처럼 일하라.\n",
      "Book 1 해시태그: #일의감각\n",
      "#디자이너조수용\n",
      "#브랜드감각\n",
      "#브랜드스토리\n",
      "#디자인철학\n",
      "#브랜드전문가\n",
      "#브랜드에세이\n",
      "#일에대한고찰\n",
      "#감각의핵심\n",
      "#브랜드마케팅\n",
      "Book 2 메시지: 마음 감기에 자주 걸리니, 사랑을 열 배로 셀게요.\n",
      "Book 2 해시태그: #문상훈\n",
      "#산문집\n",
      "#빠더너스\n",
      "#하이퍼리얼리즘\n",
      "#콩트와코미디\n",
      "#자기표현\n",
      "#소통의어려움\n",
      "#청춘\n",
      "#시인\n",
      "#새치기\n",
      "Book 3 메시지: 언어는 공부가 아니라 덕질입니다. 즐기는 것이 우선, 나머지는 따라오겠죠?\n",
      "Book 3 해시태그: #일본어덕질 #일본어학습 #일본어회화 #유튜브일본어 #일본어책 #일본어교재 #일본어권강사 #일본어덕업성 #일본어에세이 #일본어공부법\n",
      "Book 4 메시지: 죽음은 삶의 일부입니다. 오늘을 충실히 살아갈 이유입니다.\n",
      "Book 4 해시태그: #죽음공부 #웰빙 #웰다잉 #삶과죽음 #존엄한죽음 #죽음준비 #삶의의미 #죽음의의미 #죽음이란 #죽음앞에서\n"
     ]
    }
   ],
   "source": [
    "\n",
    "# Example usage\n",
    "if __name__ == \"__main__\":\n",
    "\n",
    "    if len(description_list) != len(data) or len(key_sentences_list) != len(data):\n",
    "        print(\"Warning: The length of text_description and text_key_sentences is not the same.\")\n",
    "        min_length = min(len(description_list), len(key_sentences_list))\n",
    "        print(f\"Processing only the first {min_length} items.\")\n",
    "    else:\n",
    "        min_length = len(description_list)\n",
    "\n",
    "    ### 테스트 개수 설정\n",
    "    min_length = 5\n",
    "\n",
    "    try:\n",
    "        text_description = description_list[:min_length]\n",
    "        text_key_sentences = key_sentences_list[:min_length]\n",
    "    except Exception as e:\n",
    "        print(f\"An error occurred while processing the books: {e}\")\n",
    "\n",
    "    results = process_multiple_books(text_description, text_key_sentences, isbn_list)\n",
    "\n",
    "    \n",
    "    for book, data in results.items():\n",
    "        print(f\"{book} 메시지: {data['message']}\")\n",
    "        print(f\"{book} 해시태그: {data['hashtags']}\")"
   ]
  }
 ],
 "metadata": {
  "kernelspec": {
   "display_name": "mecab_env",
   "language": "python",
   "name": "python3"
  },
  "language_info": {
   "codemirror_mode": {
    "name": "ipython",
    "version": 3
   },
   "file_extension": ".py",
   "mimetype": "text/x-python",
   "name": "python",
   "nbconvert_exporter": "python",
   "pygments_lexer": "ipython3",
   "version": "3.9.21"
  }
 },
 "nbformat": 4,
 "nbformat_minor": 2
}
